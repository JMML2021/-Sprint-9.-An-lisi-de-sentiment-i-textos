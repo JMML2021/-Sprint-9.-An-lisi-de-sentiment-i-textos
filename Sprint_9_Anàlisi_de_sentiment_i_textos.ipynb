{
  "nbformat": 4,
  "nbformat_minor": 0,
  "metadata": {
    "colab": {
      "name": "Sprint 9. Anàlisi de sentiment i textos.ipynb",
      "provenance": [],
      "authorship_tag": "ABX9TyPHbnC/vjSdh/DCaZEPbQzs",
      "include_colab_link": true
    },
    "kernelspec": {
      "name": "python3",
      "display_name": "Python 3"
    },
    "language_info": {
      "name": "python"
    }
  },
  "cells": [
    {
      "cell_type": "markdown",
      "metadata": {
        "id": "view-in-github",
        "colab_type": "text"
      },
      "source": [
        "<a href=\"https://colab.research.google.com/github/JMML2021/-Sprint-9.-An-lisi-de-sentiment-i-textos/blob/main/Sprint_9_An%C3%A0lisi_de_sentiment_i_textos.ipynb\" target=\"_parent\"><img src=\"https://colab.research.google.com/assets/colab-badge.svg\" alt=\"Open In Colab\"/></a>"
      ]
    },
    {
      "cell_type": "code",
      "execution_count": 3,
      "metadata": {
        "colab": {
          "base_uri": "https://localhost:8080/"
        },
        "id": "YMR9SgvGD34m",
        "outputId": "1d6826b2-bf1e-48dd-e2fd-6851069a3fa5"
      },
      "outputs": [
        {
          "output_type": "stream",
          "name": "stdout",
          "text": [
            "Looking in indexes: https://pypi.org/simple, https://us-python.pkg.dev/colab-wheels/public/simple/\n",
            "Requirement already satisfied: nltk in /usr/local/lib/python3.7/dist-packages (3.7)\n",
            "Requirement already satisfied: click in /usr/local/lib/python3.7/dist-packages (from nltk) (7.1.2)\n",
            "Requirement already satisfied: tqdm in /usr/local/lib/python3.7/dist-packages (from nltk) (4.64.0)\n",
            "Requirement already satisfied: regex>=2021.8.3 in /usr/local/lib/python3.7/dist-packages (from nltk) (2022.6.2)\n",
            "Requirement already satisfied: joblib in /usr/local/lib/python3.7/dist-packages (from nltk) (1.1.0)\n"
          ]
        }
      ],
      "source": [
        "!pip install nltk"
      ]
    },
    {
      "cell_type": "code",
      "source": [
        "#Loading NLTK\n",
        "import nltk"
      ],
      "metadata": {
        "id": "ZIxRSsEYEc3l"
      },
      "execution_count": 4,
      "outputs": []
    },
    {
      "cell_type": "code",
      "source": [
        "nltk.download('punkt')"
      ],
      "metadata": {
        "colab": {
          "base_uri": "https://localhost:8080/"
        },
        "id": "z8vyXF4vFChs",
        "outputId": "0b67dda8-22e3-4723-cbf5-125b41334469"
      },
      "execution_count": 6,
      "outputs": [
        {
          "output_type": "stream",
          "name": "stderr",
          "text": [
            "[nltk_data] Downloading package punkt to /root/nltk_data...\n",
            "[nltk_data]   Unzipping tokenizers/punkt.zip.\n"
          ]
        },
        {
          "output_type": "execute_result",
          "data": {
            "text/plain": [
              "True"
            ]
          },
          "metadata": {},
          "execution_count": 6
        }
      ]
    },
    {
      "cell_type": "code",
      "source": [
        "from nltk.tokenize import sent_tokenize\n",
        "\n",
        "text=\"\"\"Hello Mr. Smith, how are you doing today? The weather is great, and city is awesome.\n",
        "The sky is pinkish-blue. You shouldn't eat cardboard\"\"\"\n",
        "\n",
        "tokenized_text=sent_tokenize(text)\n",
        "print(tokenized_text)"
      ],
      "metadata": {
        "colab": {
          "base_uri": "https://localhost:8080/"
        },
        "id": "BBLF68O5EtUS",
        "outputId": "5baed359-39d6-4e31-9f2f-968715f26177"
      },
      "execution_count": 7,
      "outputs": [
        {
          "output_type": "stream",
          "name": "stdout",
          "text": [
            "['Hello Mr. Smith, how are you doing today?', 'The weather is great, and city is awesome.', 'The sky is pinkish-blue.', \"You shouldn't eat cardboard\"]\n"
          ]
        }
      ]
    },
    {
      "cell_type": "code",
      "source": [
        "from nltk.tokenize import word_tokenize\n",
        "\n",
        "tokenized_word=word_tokenize(text)\n",
        "print(tokenized_word)"
      ],
      "metadata": {
        "colab": {
          "base_uri": "https://localhost:8080/"
        },
        "id": "hD9zJhyFFH6L",
        "outputId": "5ecaf06d-23bb-4e69-8b3f-bbf31bb24b43"
      },
      "execution_count": 8,
      "outputs": [
        {
          "output_type": "stream",
          "name": "stdout",
          "text": [
            "['Hello', 'Mr.', 'Smith', ',', 'how', 'are', 'you', 'doing', 'today', '?', 'The', 'weather', 'is', 'great', ',', 'and', 'city', 'is', 'awesome', '.', 'The', 'sky', 'is', 'pinkish-blue', '.', 'You', 'should', \"n't\", 'eat', 'cardboard']\n"
          ]
        }
      ]
    },
    {
      "cell_type": "code",
      "source": [
        "from nltk.probability import FreqDist\n",
        "fdist = FreqDist(tokenized_word)\n",
        "print(fdist)"
      ],
      "metadata": {
        "colab": {
          "base_uri": "https://localhost:8080/"
        },
        "id": "-axQSDXhFWwh",
        "outputId": "b43f15ed-9237-42a0-888f-248c6943337f"
      },
      "execution_count": 10,
      "outputs": [
        {
          "output_type": "stream",
          "name": "stdout",
          "text": [
            "<FreqDist with 25 samples and 30 outcomes>\n"
          ]
        }
      ]
    },
    {
      "cell_type": "code",
      "source": [
        "fdist.most_common(5)"
      ],
      "metadata": {
        "colab": {
          "base_uri": "https://localhost:8080/"
        },
        "id": "cDGIskBhFndV",
        "outputId": "d74117f3-8fb9-4fdb-b6ab-d63dcbe06679"
      },
      "execution_count": 17,
      "outputs": [
        {
          "output_type": "execute_result",
          "data": {
            "text/plain": [
              "[('is', 3), (',', 2), ('The', 2), ('.', 2), ('Hello', 1)]"
            ]
          },
          "metadata": {},
          "execution_count": 17
        }
      ]
    },
    {
      "cell_type": "code",
      "source": [
        "# Frequency Distribution Plot\n",
        "import matplotlib.pyplot as plt\n",
        "fdist.plot(30,cumulative=False)\n",
        "plt.show()"
      ],
      "metadata": {
        "colab": {
          "base_uri": "https://localhost:8080/",
          "height": 330
        },
        "id": "EjBgA3zFGBbU",
        "outputId": "6875784d-00a3-4fc6-a0a5-8a835ff32d8c"
      },
      "execution_count": 15,
      "outputs": [
        {
          "output_type": "display_data",
          "data": {
            "text/plain": [
              "<Figure size 432x288 with 1 Axes>"
            ],
            "image/png": "[encoded data removed]"
          },
          "metadata": {
            "needs_background": "light"
          }
        }
      ]
    },
    {
      "cell_type": "code",
      "source": [
        "nltk.download('stopwords')"
      ],
      "metadata": {
        "id": "gKZl94yuGmsp"
      },
      "execution_count": null,
      "outputs": []
    },
    {
      "cell_type": "code",
      "source": [
        "from nltk.corpus import stopwords\n",
        "#nltk.download('stopwords')\n",
        "\n",
        "stop_words=set(stopwords.words(\"english\"))\n",
        "print(stop_words)\n",
        "print(len(stop_words))"
      ],
      "metadata": {
        "colab": {
          "base_uri": "https://localhost:8080/"
        },
        "id": "Vml3-1o6GTNs",
        "outputId": "19be04a6-bfb1-42cd-b4db-ea60a7310414"
      },
      "execution_count": 21,
      "outputs": [
        {
          "output_type": "stream",
          "name": "stdout",
          "text": [
            "{'your', 'both', \"needn't\", \"weren't\", \"hasn't\", 'same', \"you've\", 'those', 'few', 'myself', 'again', 'where', \"you'll\", 'their', \"wouldn't\", 'they', 'or', 'it', 'further', 'having', 'be', 'nor', 'some', 'he', 'this', 're', 'at', 'will', 'me', \"shan't\", 'his', 'from', 'yourself', 'him', 'all', 'if', \"hadn't\", \"she's\", 'because', 'then', 'most', 'mightn', 'does', 'do', \"should've\", 'themselves', 'now', \"it's\", 'isn', 'ours', 'himself', 'i', 'couldn', 'them', 'while', 'any', 'more', 'such', 'her', 'so', 'after', 'hadn', 'as', 'between', 'weren', \"doesn't\", 'theirs', 'against', 'out', 'below', 'was', \"wasn't\", 'ourselves', 'been', 'about', 'that', \"aren't\", 'on', 'm', 'we', 'whom', 'up', 'there', 'until', \"won't\", 'who', 'the', 'its', \"isn't\", 'before', 'just', 'yours', 'than', 'don', 'did', 'each', 'through', 'very', 'll', 'an', 'but', 'can', 'a', 'hasn', 'yourselves', 'not', 'haven', \"you're\", 'no', 'wouldn', 'our', \"haven't\", 'too', 'being', 'hers', 'by', 'won', 'ain', 'herself', 'what', 'wasn', \"mustn't\", 'with', 'y', \"you'd\", 'mustn', \"don't\", 't', 'when', 'why', 's', 'which', 'in', 'has', 'and', 'off', 'other', 'o', \"didn't\", 'you', 'doesn', \"that'll\", 'above', 'should', \"shouldn't\", 'shouldn', 'during', 'itself', 'own', \"couldn't\", 'of', 'is', 'here', 'ma', 'she', 'how', 'only', 'down', 've', 'my', 'd', \"mightn't\", 'needn', 'aren', 'shan', 'over', 'am', 'had', 'for', 'didn', 'these', 'are', 'have', 'doing', 'into', 'to', 'were', 'once', 'under'}\n",
            "179\n"
          ]
        }
      ]
    },
    {
      "cell_type": "markdown",
      "source": [
        "tokenized_text=sent_tokenize(text)"
      ],
      "metadata": {
        "id": "l84bymuEHEDJ"
      }
    },
    {
      "cell_type": "code",
      "source": [
        "tokenized_sent = tokenized_word\n",
        "\n",
        "filtered_sent=[]\n",
        "for w in tokenized_sent:\n",
        "    #print(w)\n",
        "    if w not in stop_words:\n",
        "        filtered_sent.append(w)\n",
        "print(\"Tokenized Sentence:\",tokenized_sent)\n",
        "print(\"Filterd Sentence:\",filtered_sent)"
      ],
      "metadata": {
        "colab": {
          "base_uri": "https://localhost:8080/"
        },
        "id": "cyQl0UWwG1DW",
        "outputId": "5e620d1b-2a95-4942-83e5-9c915e8e07c7"
      },
      "execution_count": 33,
      "outputs": [
        {
          "output_type": "stream",
          "name": "stdout",
          "text": [
            "Tokenized Sentence: ['Hello', 'Mr.', 'Smith', ',', 'how', 'are', 'you', 'doing', 'today', '?', 'The', 'weather', 'is', 'great', ',', 'and', 'city', 'is', 'awesome', '.', 'The', 'sky', 'is', 'pinkish-blue', '.', 'You', 'should', \"n't\", 'eat', 'cardboard']\n",
            "Filterd Sentence: ['Hello', 'Mr.', 'Smith', ',', 'today', '?', 'The', 'weather', 'great', ',', 'city', 'awesome', '.', 'The', 'sky', 'pinkish-blue', '.', 'You', \"n't\", 'eat', 'cardboard']\n"
          ]
        }
      ]
    },
    {
      "cell_type": "code",
      "source": [
        "# Stemming\n",
        "from nltk.stem import PorterStemmer\n",
        "from nltk.tokenize import sent_tokenize, word_tokenize\n",
        "\n",
        "ps = PorterStemmer()\n",
        "\n",
        "stemmed_words=[]\n",
        "for w in filtered_sent:\n",
        "    stemmed_words.append(ps.stem(w))\n",
        "\n",
        "print(\"Filtered Sentence:\",filtered_sent)\n",
        "print(\"Stemmed Sentence:\",stemmed_words)"
      ],
      "metadata": {
        "colab": {
          "base_uri": "https://localhost:8080/"
        },
        "id": "KhYzffwXIIgN",
        "outputId": "3390efa7-6ba1-484b-861c-1df0106142d4"
      },
      "execution_count": 34,
      "outputs": [
        {
          "output_type": "stream",
          "name": "stdout",
          "text": [
            "Filtered Sentence: ['Hello', 'Mr.', 'Smith', ',', 'today', '?', 'The', 'weather', 'great', ',', 'city', 'awesome', '.', 'The', 'sky', 'pinkish-blue', '.', 'You', \"n't\", 'eat', 'cardboard']\n",
            "Stemmed Sentence: ['hello', 'mr.', 'smith', ',', 'today', '?', 'the', 'weather', 'great', ',', 'citi', 'awesom', '.', 'the', 'sky', 'pinkish-blu', '.', 'you', \"n't\", 'eat', 'cardboard']\n"
          ]
        }
      ]
    },
    {
      "cell_type": "code",
      "source": [
        "nltk.download('wordnet')"
      ],
      "metadata": {
        "id": "yDxrFjTKJEEq",
        "outputId": "64b3ae1a-9f6c-43cd-a591-79a6de6e37d6",
        "colab": {
          "base_uri": "https://localhost:8080/"
        }
      },
      "execution_count": 36,
      "outputs": [
        {
          "output_type": "stream",
          "name": "stderr",
          "text": [
            "[nltk_data] Downloading package wordnet to /root/nltk_data...\n"
          ]
        },
        {
          "output_type": "execute_result",
          "data": {
            "text/plain": [
              "True"
            ]
          },
          "metadata": {},
          "execution_count": 36
        }
      ]
    },
    {
      "cell_type": "code",
      "source": [
        "nltk.download('omw-1.4')"
      ],
      "metadata": {
        "id": "_BVsESK2JKHh",
        "outputId": "f36dfa66-d26a-4b71-94cb-a5231aee323c",
        "colab": {
          "base_uri": "https://localhost:8080/"
        }
      },
      "execution_count": 38,
      "outputs": [
        {
          "output_type": "stream",
          "name": "stderr",
          "text": [
            "[nltk_data] Downloading package omw-1.4 to /root/nltk_data...\n"
          ]
        },
        {
          "output_type": "execute_result",
          "data": {
            "text/plain": [
              "True"
            ]
          },
          "metadata": {},
          "execution_count": 38
        }
      ]
    },
    {
      "cell_type": "code",
      "source": [
        "#Lexicon Normalization\n",
        "#performing stemming and Lemmatization\n",
        "\n",
        "from nltk.stem.wordnet import WordNetLemmatizer\n",
        "lem = WordNetLemmatizer()\n",
        "\n",
        "from nltk.stem.porter import PorterStemmer\n",
        "stem = PorterStemmer()\n",
        "\n",
        "word = \"fly\"\n",
        "print(\"Lemmatized Word:\",lem.lemmatize(word,\"v\"))\n",
        "print(\"Stemmed Word:\",stem.stem(word))"
      ],
      "metadata": {
        "id": "VtY_1sbeI3gk",
        "outputId": "016690ed-4008-4d68-fc3b-e2879785c45b",
        "colab": {
          "base_uri": "https://localhost:8080/"
        }
      },
      "execution_count": 42,
      "outputs": [
        {
          "output_type": "stream",
          "name": "stdout",
          "text": [
            "Lemmatized Word: fly\n",
            "Stemmed Word: fli\n"
          ]
        }
      ]
    },
    {
      "cell_type": "code",
      "source": [
        "sent = \"Albert Einstein was born in Ulm, Germany in 1879.\"\n",
        "\n",
        "tokens=nltk.word_tokenize(sent)\n",
        "print(tokens)"
      ],
      "metadata": {
        "id": "6aY5Y-heJlFv",
        "outputId": "aef98b56-229e-4da9-87c0-79f77e4d9054",
        "colab": {
          "base_uri": "https://localhost:8080/"
        }
      },
      "execution_count": 44,
      "outputs": [
        {
          "output_type": "stream",
          "name": "stdout",
          "text": [
            "['Albert', 'Einstein', 'was', 'born', 'in', 'Ulm', ',', 'Germany', 'in', '1879', '.']\n"
          ]
        }
      ]
    },
    {
      "cell_type": "code",
      "source": [
        "nltk.download('averaged_perceptron_tagger')"
      ],
      "metadata": {
        "id": "b7nXhDs7JvY3",
        "outputId": "fcce0325-6e88-421f-ce02-c546d06955af",
        "colab": {
          "base_uri": "https://localhost:8080/"
        }
      },
      "execution_count": 46,
      "outputs": [
        {
          "output_type": "stream",
          "name": "stderr",
          "text": [
            "[nltk_data] Downloading package averaged_perceptron_tagger to\n",
            "[nltk_data]     /root/nltk_data...\n",
            "[nltk_data]   Unzipping taggers/averaged_perceptron_tagger.zip.\n"
          ]
        },
        {
          "output_type": "execute_result",
          "data": {
            "text/plain": [
              "True"
            ]
          },
          "metadata": {},
          "execution_count": 46
        }
      ]
    },
    {
      "cell_type": "code",
      "source": [
        "nltk.pos_tag(tokens)"
      ],
      "metadata": {
        "id": "vm7wA32vJqp5",
        "outputId": "f54ec789-3724-47b8-9a16-d846a9eb1e26",
        "colab": {
          "base_uri": "https://localhost:8080/"
        }
      },
      "execution_count": 47,
      "outputs": [
        {
          "output_type": "execute_result",
          "data": {
            "text/plain": [
              "[('Albert', 'NNP'),\n",
              " ('Einstein', 'NNP'),\n",
              " ('was', 'VBD'),\n",
              " ('born', 'VBN'),\n",
              " ('in', 'IN'),\n",
              " ('Ulm', 'NNP'),\n",
              " (',', ','),\n",
              " ('Germany', 'NNP'),\n",
              " ('in', 'IN'),\n",
              " ('1879', 'CD'),\n",
              " ('.', '.')]"
            ]
          },
          "metadata": {},
          "execution_count": 47
        }
      ]
    },
    {
      "cell_type": "markdown",
      "source": [
        "![image.png](data:image/png;base64,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)"
      ],
      "metadata": {
        "id": "VV6w3fZCKMi2"
      }
    },
    {
      "cell_type": "code",
      "source": [
        "# Activo Google Drive\n",
        "\n",
        "from google.colab import drive\n",
        "drive.mount('/content/drive')"
      ],
      "metadata": {
        "id": "VhN_Hf6KMZXz",
        "outputId": "01e8fe47-8001-4f54-dfc6-7569e90deb41",
        "colab": {
          "base_uri": "https://localhost:8080/"
        }
      },
      "execution_count": 48,
      "outputs": [
        {
          "output_type": "stream",
          "name": "stdout",
          "text": [
            "Mounted at /content/drive\n"
          ]
        }
      ]
    },
    {
      "cell_type": "code",
      "source": [
        "# Import pandas\n",
        "import pandas as pd\n",
        "\n",
        "\n",
        "data=pd.read_csv('/content/drive/MyDrive/01_COLAB/train.tsv', sep='\\t')"
      ],
      "metadata": {
        "id": "vtyKV8UxKRGP"
      },
      "execution_count": 49,
      "outputs": []
    }
  ]
}