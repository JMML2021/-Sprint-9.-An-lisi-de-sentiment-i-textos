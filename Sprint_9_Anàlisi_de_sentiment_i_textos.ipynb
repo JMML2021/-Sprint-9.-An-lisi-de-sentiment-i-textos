{
  "nbformat": 4,
  "nbformat_minor": 0,
  "metadata": {
    "colab": {
      "name": "Sprint 9. Anàlisi de sentiment i textos.ipynb",
      "provenance": [],
      "toc_visible": true,
      "authorship_tag": "ABX9TyMvWlHFlTiKNXaQEmTDKoF+",
      "include_colab_link": true
    },
    "kernelspec": {
      "name": "python3",
      "display_name": "Python 3"
    },
    "language_info": {
      "name": "python"
    }
  },
  "cells": [
    {
      "cell_type": "markdown",
      "metadata": {
        "id": "view-in-github",
        "colab_type": "text"
      },
      "source": [
        "<a href=\"https://colab.research.google.com/github/JMML2021/-Sprint-9.-An-lisi-de-sentiment-i-textos/blob/main/Sprint_9_An%C3%A0lisi_de_sentiment_i_textos.ipynb\" target=\"_parent\"><img src=\"https://colab.research.google.com/assets/colab-badge.svg\" alt=\"Open In Colab\"/></a>"
      ]
    },
    {
      "cell_type": "code",
      "execution_count": null,
      "metadata": {
        "colab": {
          "base_uri": "https://localhost:8080/"
        },
        "id": "YMR9SgvGD34m",
        "outputId": "1d6826b2-bf1e-48dd-e2fd-6851069a3fa5"
      },
      "outputs": [
        {
          "output_type": "stream",
          "name": "stdout",
          "text": [
            "Looking in indexes: https://pypi.org/simple, https://us-python.pkg.dev/colab-wheels/public/simple/\n",
            "Requirement already satisfied: nltk in /usr/local/lib/python3.7/dist-packages (3.7)\n",
            "Requirement already satisfied: click in /usr/local/lib/python3.7/dist-packages (from nltk) (7.1.2)\n",
            "Requirement already satisfied: tqdm in /usr/local/lib/python3.7/dist-packages (from nltk) (4.64.0)\n",
            "Requirement already satisfied: regex>=2021.8.3 in /usr/local/lib/python3.7/dist-packages (from nltk) (2022.6.2)\n",
            "Requirement already satisfied: joblib in /usr/local/lib/python3.7/dist-packages (from nltk) (1.1.0)\n"
          ]
        }
      ],
      "source": [
        "#!pip install nltk"
      ]
    },
    {
      "cell_type": "code",
      "source": [
        "#Loading NLTK\n",
        "import nltk"
      ],
      "metadata": {
        "id": "ZIxRSsEYEc3l"
      },
      "execution_count": 1,
      "outputs": []
    },
    {
      "cell_type": "code",
      "source": [
        "nltk.download('punkt')"
      ],
      "metadata": {
        "colab": {
          "base_uri": "https://localhost:8080/"
        },
        "id": "z8vyXF4vFChs",
        "outputId": "29788900-bdfc-4bb4-cf9d-d22325bab0e1"
      },
      "execution_count": 2,
      "outputs": [
        {
          "output_type": "stream",
          "name": "stderr",
          "text": [
            "[nltk_data] Downloading package punkt to /root/nltk_data...\n",
            "[nltk_data]   Unzipping tokenizers/punkt.zip.\n"
          ]
        },
        {
          "output_type": "execute_result",
          "data": {
            "text/plain": [
              "True"
            ]
          },
          "metadata": {},
          "execution_count": 2
        }
      ]
    },
    {
      "cell_type": "markdown",
      "source": [
        "# - Exercici 1"
      ],
      "metadata": {
        "id": "Cwsjp4jR0ARy"
      }
    },
    {
      "cell_type": "markdown",
      "source": [
        "## Agafa un text en anglès que vulguis, i calcula'n la freqüència de les paraules.\n"
      ],
      "metadata": {
        "id": "mMEha_8y0JOI"
      }
    },
    {
      "cell_type": "code",
      "source": [
        "from nltk.tokenize import sent_tokenize\n",
        "\n",
        "text=\"\"\"Hello Mr. Smith, how are you doing today? The weather is great, and city is awesome.\n",
        "The sky is pinkish-blue. You shouldn't eat cardboard\"\"\"\n",
        "\n",
        "tokenized_text=sent_tokenize(text)\n",
        "\n",
        "\n",
        "\n",
        "print('\\n Texto en inglés:')\n",
        "\n",
        "print(tokenized_text)"
      ],
      "metadata": {
        "colab": {
          "base_uri": "https://localhost:8080/"
        },
        "id": "BBLF68O5EtUS",
        "outputId": "414cbdea-74cf-43f1-bc27-4780e4eb37b3"
      },
      "execution_count": 40,
      "outputs": [
        {
          "output_type": "stream",
          "name": "stdout",
          "text": [
            "\n",
            " Texto en inglés:\n",
            "['Hello Mr. Smith, how are you doing today?', 'The weather is great, and city is awesome.', 'The sky is pinkish-blue.', \"You shouldn't eat cardboard\"]\n"
          ]
        }
      ]
    },
    {
      "cell_type": "markdown",
      "source": [
        "\n",
        "\n",
        "---\n",
        "\n"
      ],
      "metadata": {
        "id": "7P17TIcF0R-C"
      }
    },
    {
      "cell_type": "code",
      "source": [
        "from nltk.tokenize import word_tokenize\n",
        "\n",
        "tokenized_word=word_tokenize(text)\n",
        "print(tokenized_word)"
      ],
      "metadata": {
        "colab": {
          "base_uri": "https://localhost:8080/"
        },
        "id": "hD9zJhyFFH6L",
        "outputId": "3bd4eb53-0b97-4d5f-ec2e-a102b1c49073"
      },
      "execution_count": 5,
      "outputs": [
        {
          "output_type": "stream",
          "name": "stdout",
          "text": [
            "['Hello', 'Mr.', 'Smith', ',', 'how', 'are', 'you', 'doing', 'today', '?', 'The', 'weather', 'is', 'great', ',', 'and', 'city', 'is', 'awesome', '.', 'The', 'sky', 'is', 'pinkish-blue', '.', 'You', 'should', \"n't\", 'eat', 'cardboard']\n"
          ]
        }
      ]
    },
    {
      "cell_type": "code",
      "source": [
        "from nltk.probability import FreqDist\n",
        "fdist = FreqDist(tokenized_word)\n",
        "print(fdist)"
      ],
      "metadata": {
        "colab": {
          "base_uri": "https://localhost:8080/"
        },
        "id": "-axQSDXhFWwh",
        "outputId": "b9fa8507-740b-401a-d109-29785be29505"
      },
      "execution_count": 6,
      "outputs": [
        {
          "output_type": "stream",
          "name": "stdout",
          "text": [
            "<FreqDist with 25 samples and 30 outcomes>\n"
          ]
        }
      ]
    },
    {
      "cell_type": "code",
      "source": [
        "fdist.most_common(5)"
      ],
      "metadata": {
        "colab": {
          "base_uri": "https://localhost:8080/"
        },
        "id": "cDGIskBhFndV",
        "outputId": "bb2e184c-58da-4068-bf93-a4bcac33ae7b"
      },
      "execution_count": 7,
      "outputs": [
        {
          "output_type": "execute_result",
          "data": {
            "text/plain": [
              "[('is', 3), (',', 2), ('The', 2), ('.', 2), ('Hello', 1)]"
            ]
          },
          "metadata": {},
          "execution_count": 7
        }
      ]
    },
    {
      "cell_type": "code",
      "source": [
        "# Dibujo la frecuencia de las palabras:\n",
        "\n",
        "import matplotlib.pyplot as plt\n",
        "fdist.plot(30,cumulative=False)\n",
        "plt.show()"
      ],
      "metadata": {
        "colab": {
          "base_uri": "https://localhost:8080/",
          "height": 330
        },
        "id": "EjBgA3zFGBbU",
        "outputId": "e728dd1e-b56d-40d4-d02b-554d2855515f"
      },
      "execution_count": 8,
      "outputs": [
        {
          "output_type": "display_data",
          "data": {
            "text/plain": [
              "<Figure size 432x288 with 1 Axes>"
            ],
            "image/png": "[encoded data removed]"
          },
          "metadata": {
            "needs_background": "light"
          }
        }
      ]
    },
    {
      "cell_type": "markdown",
      "source": [
        "# - Exercici 2\n",
        "\n"
      ],
      "metadata": {
        "id": "wxd0wREI0pWE"
      }
    },
    {
      "cell_type": "markdown",
      "source": [
        "##Treu les stopwords i realitza stemming al teu conjunt de dades."
      ],
      "metadata": {
        "id": "imL6Ky_v0vet"
      }
    },
    {
      "cell_type": "code",
      "source": [
        "nltk.download('stopwords')"
      ],
      "metadata": {
        "id": "gKZl94yuGmsp",
        "outputId": "addffd53-e173-4119-9b11-7b0a7ce8c76b",
        "colab": {
          "base_uri": "https://localhost:8080/"
        }
      },
      "execution_count": 9,
      "outputs": [
        {
          "output_type": "stream",
          "name": "stderr",
          "text": [
            "[nltk_data] Downloading package stopwords to /root/nltk_data...\n",
            "[nltk_data]   Unzipping corpora/stopwords.zip.\n"
          ]
        },
        {
          "output_type": "execute_result",
          "data": {
            "text/plain": [
              "True"
            ]
          },
          "metadata": {},
          "execution_count": 9
        }
      ]
    },
    {
      "cell_type": "code",
      "source": [
        "from nltk.corpus import stopwords\n",
        "#nltk.download('stopwords')\n",
        "\n",
        "stop_words=set(stopwords.words(\"english\"))\n",
        "\n",
        "print('Imprimimos las stop-words\\n')\n",
        "print(stop_words)\n",
        "print('\\n\\nHay en total : ',len(stop_words), ' stop-words')"
      ],
      "metadata": {
        "colab": {
          "base_uri": "https://localhost:8080/"
        },
        "id": "Vml3-1o6GTNs",
        "outputId": "b45d20fd-7510-4835-af01-cd34fbd8b997"
      },
      "execution_count": 43,
      "outputs": [
        {
          "output_type": "stream",
          "name": "stdout",
          "text": [
            "imprimimos las stop-words\n",
            "\n",
            "{'they', 'off', 'if', 'didn', 'doesn', \"haven't\", 'between', 'will', \"should've\", 'in', 'once', 'who', 'very', 'ma', \"won't\", 'my', 'what', 'won', 'you', 'each', 'this', 'because', \"mightn't\", \"aren't\", 'can', 'the', 'all', 'or', 'is', 'where', 'do', 'haven', 'he', 'up', 'down', 'but', 'through', 'his', 'i', \"hasn't\", \"you'll\", 'hers', 'with', 'ain', 're', 'an', 'other', 'myself', 'having', 'most', 'yourself', \"she's\", 'herself', 'their', 'that', 'not', 'has', 'shan', 'into', 'some', 'yours', 'it', 'against', 'which', 'below', 'our', 'there', 'should', 'mightn', 'hasn', 'nor', 'for', 'about', \"shan't\", 'out', 'ourselves', 'when', 'no', 'now', 'then', 'during', 'have', 'itself', 'was', \"couldn't\", \"it's\", \"wouldn't\", 'we', 'couldn', 've', 'needn', 'of', \"wasn't\", 'few', \"mustn't\", 'y', 'wasn', 'same', 'shouldn', \"didn't\", 'she', 'a', 'hadn', 'ours', 'such', 'are', 'them', 'and', \"weren't\", \"needn't\", 'had', \"hadn't\", 's', 'these', 'themselves', 'weren', \"isn't\", \"you'd\", 'above', 'from', \"you're\", 'am', 'so', 'further', 'on', 't', 'o', 'your', 'him', 'did', 'too', 'yourselves', 'her', 'theirs', 'before', 'isn', 'mustn', 'until', 'here', 'why', \"don't\", 'just', 'wouldn', 'how', \"you've\", 'does', 'been', 'd', 'll', \"that'll\", 'while', 'doing', 'aren', 'any', 'm', 'again', 'as', 'both', 'being', 'than', \"shouldn't\", 'whom', 'were', 'to', 'be', 'don', 'those', \"doesn't\", 'under', 'more', 'by', 'after', 'over', 'only', 'himself', 'its', 'own', 'me', 'at'}\n",
            "\n",
            "\n",
            "Hay en total :  179  stop-words\n"
          ]
        }
      ]
    },
    {
      "cell_type": "markdown",
      "source": [
        "tokenized_text=sent_tokenize(text)"
      ],
      "metadata": {
        "id": "l84bymuEHEDJ"
      }
    },
    {
      "cell_type": "code",
      "source": [
        "tokenized_sent = tokenized_word\n",
        "\n",
        "palabrasFiltradas=[]\n",
        "for w in tokenized_sent:\n",
        "    #print(w)\n",
        "    if w not in stop_words:\n",
        "        palabrasFiltradas.append(w)\n",
        "print(\"Frase Tokenized:\",tokenized_sent)\n",
        "print(\"Frase filtrada\",filtered_sent)"
      ],
      "metadata": {
        "colab": {
          "base_uri": "https://localhost:8080/"
        },
        "id": "cyQl0UWwG1DW",
        "outputId": "5f591618-558c-4928-df92-73d8b0b0f14f"
      },
      "execution_count": 45,
      "outputs": [
        {
          "output_type": "stream",
          "name": "stdout",
          "text": [
            "Frase Tokenized: ['Hello', 'Mr.', 'Smith', ',', 'how', 'are', 'you', 'doing', 'today', '?', 'The', 'weather', 'is', 'great', ',', 'and', 'city', 'is', 'awesome', '.', 'The', 'sky', 'is', 'pinkish-blue', '.', 'You', 'should', \"n't\", 'eat', 'cardboard']\n",
            "Frase filtrada ['Hello', 'Mr.', 'Smith', ',', 'today', '?', 'The', 'weather', 'great', ',', 'city', 'awesome', '.', 'The', 'sky', 'pinkish-blue', '.', 'You', \"n't\", 'eat', 'cardboard']\n"
          ]
        }
      ]
    },
    {
      "cell_type": "markdown",
      "source": [
        "Los **'stemmers'** eliminan los afijos morfológicos de las palabras, dejando solo la raíz de la palabra."
      ],
      "metadata": {
        "id": "vHr304U-2Sro"
      }
    },
    {
      "cell_type": "markdown",
      "source": [
        "aplicamos el stemming\n",
        "\n",
        "\n",
        "---\n",
        "\n"
      ],
      "metadata": {
        "id": "yLCdwXtV1SmQ"
      }
    },
    {
      "cell_type": "code",
      "source": [
        "# Stemming\n",
        "\n",
        "from nltk.stem import PorterStemmer\n",
        "from nltk.tokenize import sent_tokenize, word_tokenize\n",
        "\n",
        "ps = PorterStemmer()\n",
        "\n",
        "stemmed_words=[]\n",
        "for w in filtered_sent:\n",
        "    stemmed_words.append(ps.stem(w))\n",
        "\n",
        "print(\"Filtered Sentence:\",filtered_sent)\n",
        "print(\"Stemmed Sentence:\",stemmed_words)"
      ],
      "metadata": {
        "colab": {
          "base_uri": "https://localhost:8080/"
        },
        "id": "KhYzffwXIIgN",
        "outputId": "bbdcc652-dba3-464f-d009-a00f8155c3fc"
      },
      "execution_count": 12,
      "outputs": [
        {
          "output_type": "stream",
          "name": "stdout",
          "text": [
            "Filtered Sentence: ['Hello', 'Mr.', 'Smith', ',', 'today', '?', 'The', 'weather', 'great', ',', 'city', 'awesome', '.', 'The', 'sky', 'pinkish-blue', '.', 'You', \"n't\", 'eat', 'cardboard']\n",
            "Stemmed Sentence: ['hello', 'mr.', 'smith', ',', 'today', '?', 'the', 'weather', 'great', ',', 'citi', 'awesom', '.', 'the', 'sky', 'pinkish-blu', '.', 'you', \"n't\", 'eat', 'cardboard']\n"
          ]
        }
      ]
    },
    {
      "cell_type": "code",
      "source": [
        "nltk.download('wordnet')"
      ],
      "metadata": {
        "colab": {
          "base_uri": "https://localhost:8080/"
        },
        "id": "yDxrFjTKJEEq",
        "outputId": "ba72d367-7ec4-4ba3-b95d-b267d9876a0b"
      },
      "execution_count": 13,
      "outputs": [
        {
          "output_type": "stream",
          "name": "stderr",
          "text": [
            "[nltk_data] Downloading package wordnet to /root/nltk_data...\n"
          ]
        },
        {
          "output_type": "execute_result",
          "data": {
            "text/plain": [
              "True"
            ]
          },
          "metadata": {},
          "execution_count": 13
        }
      ]
    },
    {
      "cell_type": "code",
      "source": [
        "nltk.download('omw-1.4')"
      ],
      "metadata": {
        "colab": {
          "base_uri": "https://localhost:8080/"
        },
        "id": "_BVsESK2JKHh",
        "outputId": "c186aff3-8570-4f72-b0fd-421e951b2600"
      },
      "execution_count": 14,
      "outputs": [
        {
          "output_type": "stream",
          "name": "stderr",
          "text": [
            "[nltk_data] Downloading package omw-1.4 to /root/nltk_data...\n"
          ]
        },
        {
          "output_type": "execute_result",
          "data": {
            "text/plain": [
              "True"
            ]
          },
          "metadata": {},
          "execution_count": 14
        }
      ]
    },
    {
      "cell_type": "code",
      "source": [
        "#Lexicon Normalization\n",
        "#performing stemming and Lemmatization\n",
        "\n",
        "from nltk.stem.wordnet import WordNetLemmatizer\n",
        "lem = WordNetLemmatizer()\n",
        "\n",
        "from nltk.stem.porter import PorterStemmer\n",
        "stem = PorterStemmer()\n",
        "\n",
        "word = \"fly\"\n",
        "print(\"Lemmatized Word:\",lem.lemmatize(word,\"v\"))\n",
        "print(\"Stemmed Word:\",stem.stem(word))"
      ],
      "metadata": {
        "colab": {
          "base_uri": "https://localhost:8080/"
        },
        "id": "VtY_1sbeI3gk",
        "outputId": "05c3c47e-b1a3-46e7-9a6b-1efa86d0ff1f"
      },
      "execution_count": 15,
      "outputs": [
        {
          "output_type": "stream",
          "name": "stdout",
          "text": [
            "Lemmatized Word: fly\n",
            "Stemmed Word: fli\n"
          ]
        }
      ]
    },
    {
      "cell_type": "code",
      "source": [],
      "metadata": {
        "id": "Ov2gvjV26gTo"
      },
      "execution_count": null,
      "outputs": []
    },
    {
      "cell_type": "markdown",
      "source": [
        "https://www.nltk.org/howto/stem.html"
      ],
      "metadata": {
        "id": "z2Ck6Dvh6h3n"
      }
    },
    {
      "cell_type": "code",
      "source": [
        "from nltk.stem.snowball import SnowballStemmer\n",
        "print(\" \".join(SnowballStemmer.languages))"
      ],
      "metadata": {
        "id": "cuZXT-JG6gXF",
        "outputId": "ff5cf073-26aa-4600-e5a8-2f2d9b51e0b8",
        "colab": {
          "base_uri": "https://localhost:8080/"
        }
      },
      "execution_count": 47,
      "outputs": [
        {
          "output_type": "stream",
          "name": "stdout",
          "text": [
            "arabic danish dutch english finnish french german hungarian italian norwegian porter portuguese romanian russian spanish swedish\n"
          ]
        }
      ]
    },
    {
      "cell_type": "code",
      "source": [
        "stemmer = SnowballStemmer(\"spanish\")"
      ],
      "metadata": {
        "id": "js03o2DB6gam"
      },
      "execution_count": 48,
      "outputs": []
    },
    {
      "cell_type": "code",
      "source": [
        "print(stemmer.stem(\"los amigos van corriendo y saltando\"))"
      ],
      "metadata": {
        "id": "gZwvqKUU6gd8",
        "outputId": "12894d9f-6b11-4bbe-c63f-e13feee33f6e",
        "colab": {
          "base_uri": "https://localhost:8080/"
        }
      },
      "execution_count": 51,
      "outputs": [
        {
          "output_type": "stream",
          "name": "stdout",
          "text": [
            "los amigos van corriendo y salt\n"
          ]
        }
      ]
    },
    {
      "cell_type": "code",
      "source": [
        "# Subrutin de limpieza de datos\n",
        "frase = \"Con estas razones perdía el pobre caballero el juicio, y desvelábase por entenderlas y desentrañarles el sentido, que no se lo sacara ni las entendiera el mesmo Aristóteles, \\\n",
        "si resucitara para sólo ello. No estaba muy bien con las heridas que don Belianís daba y recebía, porque se imaginaba que, por grandes maestros que le hubiesen curado, no dejaría de \\\n",
        "tener el rostro y todo el cuerpo lleno de cicatrices y señales.\"\n",
        "\n",
        "import re\n",
        "def preprocesador(text):\n",
        "    \n",
        "    text = re.sub('<[^>]*>','', text)\n",
        "    emoticons = re.findall('(?::|;|=)(?:-)?(?:\\)|\\(|D|P)', text)                           \n",
        "    text = (re.sub('[\\W]+', ' ', text.lower()) +\n",
        "            \n",
        "            ' '.join(emoticons).replace('-', ''))\n",
        "\n",
        "    return text\n"
      ],
      "metadata": {
        "id": "VGA3h7xfObBd"
      },
      "execution_count": 137,
      "outputs": []
    },
    {
      "cell_type": "code",
      "source": [
        "print(preprocesador(frase))"
      ],
      "metadata": {
        "id": "4PJYbiGROgGu",
        "outputId": "5b7bfe1f-1838-4612-9600-23e29913586c",
        "colab": {
          "base_uri": "https://localhost:8080/"
        }
      },
      "execution_count": 138,
      "outputs": [
        {
          "output_type": "stream",
          "name": "stdout",
          "text": [
            "con estas razones perdía el pobre caballero el juicio y desvelábase por entenderlas y desentrañarles el sentido que no se lo sacara ni las entendiera el mesmo aristóteles si resucitara para sólo ello no estaba muy bien con las heridas que don belianís daba y recebía porque se imaginaba que por grandes maestros que le hubiesen curado no dejaría de tener el rostro y todo el cuerpo lleno de cicatrices y señales \n"
          ]
        }
      ]
    },
    {
      "cell_type": "code",
      "source": [
        "\n",
        "\n",
        "tokens=nltk.word_tokenize(frase)\n",
        "\n",
        "print('\\nde un texto del Quijote:\\n')\n",
        "print(tokens)\n",
        "palabras= nltk.pos_tag(tokens)\n",
        "palabras\n",
        "\n"
      ],
      "metadata": {
        "id": "x3N2DPBy6ggQ",
        "outputId": "7731effb-39a9-4d50-a5ab-a21fef6a7caa",
        "colab": {
          "base_uri": "https://localhost:8080/"
        }
      },
      "execution_count": 140,
      "outputs": [
        {
          "output_type": "stream",
          "name": "stdout",
          "text": [
            "\n",
            "de un texto del Quijote:\n",
            "\n",
            "['Con', 'estas', 'razones', 'perdía', 'el', 'pobre', 'caballero', 'el', 'juicio', ',', 'y', 'desvelábase', 'por', 'entenderlas', 'y', 'desentrañarles', 'el', 'sentido', ',', 'que', 'no', 'se', 'lo', 'sacara', 'ni', 'las', 'entendiera', 'el', 'mesmo', 'Aristóteles', ',', 'si', 'resucitara', 'para', 'sólo', 'ello', '.', 'No', 'estaba', 'muy', 'bien', 'con', 'las', 'heridas', 'que', 'don', 'Belianís', 'daba', 'y', 'recebía', ',', 'porque', 'se', 'imaginaba', 'que', ',', 'por', 'grandes', 'maestros', 'que', 'le', 'hubiesen', 'curado', ',', 'no', 'dejaría', 'de', 'tener', 'el', 'rostro', 'y', 'todo', 'el', 'cuerpo', 'lleno', 'de', 'cicatrices', 'y', 'señales', '.']\n"
          ]
        },
        {
          "output_type": "execute_result",
          "data": {
            "text/plain": [
              "[('Con', 'NNP'),\n",
              " ('estas', 'CC'),\n",
              " ('razones', 'NNS'),\n",
              " ('perdía', 'VBP'),\n",
              " ('el', 'JJ'),\n",
              " ('pobre', 'NN'),\n",
              " ('caballero', 'NN'),\n",
              " ('el', 'NN'),\n",
              " ('juicio', 'NN'),\n",
              " (',', ','),\n",
              " ('y', 'JJ'),\n",
              " ('desvelábase', 'NN'),\n",
              " ('por', 'NN'),\n",
              " ('entenderlas', 'VBP'),\n",
              " ('y', 'NN'),\n",
              " ('desentrañarles', 'NNS'),\n",
              " ('el', 'VBP'),\n",
              " ('sentido', 'NN'),\n",
              " (',', ','),\n",
              " ('que', 'JJ'),\n",
              " ('no', 'DT'),\n",
              " ('se', 'JJ'),\n",
              " ('lo', 'NN'),\n",
              " ('sacara', 'NN'),\n",
              " ('ni', 'JJ'),\n",
              " ('las', 'NNS'),\n",
              " ('entendiera', 'VBP'),\n",
              " ('el', 'JJ'),\n",
              " ('mesmo', 'NN'),\n",
              " ('Aristóteles', 'NNP'),\n",
              " (',', ','),\n",
              " ('si', 'NN'),\n",
              " ('resucitara', 'NN'),\n",
              " ('para', 'NN'),\n",
              " ('sólo', 'NN'),\n",
              " ('ello', 'NN'),\n",
              " ('.', '.'),\n",
              " ('No', 'DT'),\n",
              " ('estaba', 'JJ'),\n",
              " ('muy', 'NN'),\n",
              " ('bien', 'NN'),\n",
              " ('con', 'NN'),\n",
              " ('las', 'NNS'),\n",
              " ('heridas', 'VBP'),\n",
              " ('que', 'JJ'),\n",
              " ('don', 'NN'),\n",
              " ('Belianís', 'NNP'),\n",
              " ('daba', 'NN'),\n",
              " ('y', 'NN'),\n",
              " ('recebía', 'NN'),\n",
              " (',', ','),\n",
              " ('porque', 'NN'),\n",
              " ('se', 'NN'),\n",
              " ('imaginaba', 'NN'),\n",
              " ('que', 'NN'),\n",
              " (',', ','),\n",
              " ('por', 'NN'),\n",
              " ('grandes', 'NNS'),\n",
              " ('maestros', 'VBP'),\n",
              " ('que', 'JJ'),\n",
              " ('le', 'NN'),\n",
              " ('hubiesen', 'NN'),\n",
              " ('curado', 'NN'),\n",
              " (',', ','),\n",
              " ('no', 'DT'),\n",
              " ('dejaría', 'NN'),\n",
              " ('de', 'IN'),\n",
              " ('tener', 'FW'),\n",
              " ('el', 'FW'),\n",
              " ('rostro', 'FW'),\n",
              " ('y', 'FW'),\n",
              " ('todo', 'NN'),\n",
              " ('el', 'NN'),\n",
              " ('cuerpo', 'NN'),\n",
              " ('lleno', 'FW'),\n",
              " ('de', 'FW'),\n",
              " ('cicatrices', 'NNS'),\n",
              " ('y', 'VBP'),\n",
              " ('señales', 'NNS'),\n",
              " ('.', '.')]"
            ]
          },
          "metadata": {},
          "execution_count": 140
        }
      ]
    },
    {
      "cell_type": "markdown",
      "source": [
        "Listado de abreviaturas:"
      ],
      "metadata": {
        "id": "kuISORCY_d4m"
      }
    },
    {
      "cell_type": "markdown",
      "source": [
        "![image.png](data:image/png;base64,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)"
      ],
      "metadata": {
        "id": "zgltr5bR_Z8C"
      }
    },
    {
      "cell_type": "code",
      "source": [
        "from collections import Counter\n",
        "counts = Counter( palabra for word,  palabra in palabras)\n",
        "print(counts)\n"
      ],
      "metadata": {
        "id": "K6rrIc3j_byh",
        "outputId": "af7dc3d3-8327-4d57-d4aa-6e4cd937286f",
        "colab": {
          "base_uri": "https://localhost:8080/"
        }
      },
      "execution_count": 66,
      "outputs": [
        {
          "output_type": "stream",
          "name": "stdout",
          "text": [
            "Counter({'NN': 37, 'NNS': 9, 'JJ': 9, 'VBP': 7, ',': 6, 'FW': 6, 'DT': 3, '.': 2, 'IN': 1})\n"
          ]
        }
      ]
    },
    {
      "cell_type": "markdown",
      "source": [
        "**Conclusion:**\n",
        "\n",
        "Vemos que el texto tiene 37 palabras singulares y 9 plurales."
      ],
      "metadata": {
        "id": "_oqpYe7oA9pX"
      }
    },
    {
      "cell_type": "code",
      "source": [
        "print('Listamos las palabras plurales:\\n')\n",
        "for palabra in palabras:\n",
        "  if palabra[1]== 'NNS':\n",
        "    print (palabra)"
      ],
      "metadata": {
        "id": "kpABsDwC6gju",
        "outputId": "b13e0abb-3524-4958-f4c0-19efc9d47b9f",
        "colab": {
          "base_uri": "https://localhost:8080/"
        }
      },
      "execution_count": 71,
      "outputs": [
        {
          "output_type": "stream",
          "name": "stdout",
          "text": [
            "Listamos las palabras plurales:\n",
            "\n",
            "('estas', 'NNS')\n",
            "('razones', 'NNS')\n",
            "('desentrañarles', 'NNS')\n",
            "('las', 'NNS')\n",
            "('aristóteles', 'NNS')\n",
            "('las', 'NNS')\n",
            "('grandes', 'NNS')\n",
            "('cicatrices', 'NNS')\n",
            "('señales', 'NNS')\n"
          ]
        }
      ]
    },
    {
      "cell_type": "code",
      "source": [
        "frase = \"Albert Einstein was born in Ulm, Germany in 1879.\"\n",
        "\n",
        "tokens=nltk.word_tokenize(frase)\n",
        "print(tokens)"
      ],
      "metadata": {
        "colab": {
          "base_uri": "https://localhost:8080/"
        },
        "id": "6aY5Y-heJlFv",
        "outputId": "07013cdc-77ed-4b55-d119-d8190453e74e"
      },
      "execution_count": 16,
      "outputs": [
        {
          "output_type": "stream",
          "name": "stdout",
          "text": [
            "['Albert', 'Einstein', 'was', 'born', 'in', 'Ulm', ',', 'Germany', 'in', '1879', '.']\n"
          ]
        }
      ]
    },
    {
      "cell_type": "code",
      "source": [
        "nltk.download('averaged_perceptron_tagger')"
      ],
      "metadata": {
        "colab": {
          "base_uri": "https://localhost:8080/"
        },
        "id": "b7nXhDs7JvY3",
        "outputId": "13311a83-6242-48d7-9ff7-52c3de016c56"
      },
      "execution_count": 17,
      "outputs": [
        {
          "output_type": "stream",
          "name": "stderr",
          "text": [
            "[nltk_data] Downloading package averaged_perceptron_tagger to\n",
            "[nltk_data]     /root/nltk_data...\n",
            "[nltk_data]   Unzipping taggers/averaged_perceptron_tagger.zip.\n"
          ]
        },
        {
          "output_type": "execute_result",
          "data": {
            "text/plain": [
              "True"
            ]
          },
          "metadata": {},
          "execution_count": 17
        }
      ]
    },
    {
      "cell_type": "code",
      "source": [
        "nltk.pos_tag(tokens)"
      ],
      "metadata": {
        "colab": {
          "base_uri": "https://localhost:8080/"
        },
        "id": "vm7wA32vJqp5",
        "outputId": "9e1e9bc9-433e-42b1-83b3-295d7b26ffe1"
      },
      "execution_count": 18,
      "outputs": [
        {
          "output_type": "execute_result",
          "data": {
            "text/plain": [
              "[('Albert', 'NNP'),\n",
              " ('Einstein', 'NNP'),\n",
              " ('was', 'VBD'),\n",
              " ('born', 'VBN'),\n",
              " ('in', 'IN'),\n",
              " ('Ulm', 'NNP'),\n",
              " (',', ','),\n",
              " ('Germany', 'NNP'),\n",
              " ('in', 'IN'),\n",
              " ('1879', 'CD'),\n",
              " ('.', '.')]"
            ]
          },
          "metadata": {},
          "execution_count": 18
        }
      ]
    },
    {
      "cell_type": "markdown",
      "source": [
        "![image.png](data:image/png;base64,iVBORw0KGgoAAAANSUhEUgAAAgAAAAEMCAIAAAA9MJlLAAAgAElEQVR4nOydeXxVxdn4n5mz3j37vgEJEHZkB0FUFhVLUdyr1Vdbra21tdpXXru4trXWta1a665Vf4grFhVQFARkD0tIQhKy78nNzd3POvP7415CCAEByQKZ7yeffM4998wzc869d56ZZ555HkQpBQaDwWAMPnB/N4DBYDAY/QNTAAwGgzFIYQqAwWAwBilMATAYDMYghSkABoPBGKQwBcBgMBiDFL6/G8BgMM5m1q7f5fEG+rsVg4LcnNRzxuWdVBHE9gEwBgLBYNgXCCHEpqS9DsaQGB+DEOqDunTdEIffd9/t40RRIIR1Nb0Fxqio2W0j3Ct/ve2kCrIZAGNA8NaHX9/2h6+gSu/vhpztxCCYau9Yca/LaeujGqv0e279YWyMo4+qG6ysXb/rnU+3n2wppgAYA4LGNt/yZy69avEc0zT7uy1nMz5/KC72j4SQvqxU1Yy+rI5x4jAFwBhYcBzX3004mxEF9pNnHIaZXBkMBmOQwhQAg8FgDFKYAmAwGIyTxjTNjoAaUnrFbaEjoHYE1N6Q3A1mEGQwGH2AurOwrT142BN0/DlpSUI/DkCpaZLdxU2dTQoo2oiJWaOcJ9QlUkrr62qybypadNvYt6/Ocp5Ol1oKoCVdt9qISy59aUou37uPiCkABoPRu2AMtMP/whtFL6nSeUl8DDWqNfHdSWlJJyyBdrTd/VKRa8bo/5sVL56eRiEtHH7nP0VPuLm5OXIMNdr99Fc56SeoABBCvCDftciRnuOQT/OGCgQAD1wUV2RxJXG9riCZAmAwGL1OiGIAuGRGTrfxsq4b2wqbQhoAwLSpGZG3iBr8crcHALBFGpsfH49pSXHDZy0KLmiZyYfzR6UorU2VrZE5BCqvqI8cW5TQlqKO5JwEf0MbiY2dlmNDPQnvhCAOAGZNyfj4p8M732pp8+w5GByTG9vQ2NEepHJy7OwcW6RJBWUdndMFOTl2UnLsjy4aJiRaRKCbCup9sQnnWj1bKs1ImyOTG0rprv0NkVJdZzwNlQ37WwgAJOckjEuWAWh5RX0jjs1A/vImIz0/ZeGcIdOIKCNoqGwo9gszh1o27u8AgPT8lIiKCgcCkTMRknMSTu1zYQqAwehFdN3QTcrLwmkat55lqL/43YaXVGlBAqyuMRZVkleWZogh77K/7zqALRIxVtcYky4Z/cX8mM83Nh9QZShrvbfF+0xybM3GqhvWCZufSE6K57ceOk4Lti94qRzi6ybrxsyF0qRk7tf3f9NNeFejE6bRHSctJuENEwCssuCpa13wUt3EVGu2qO1oVeoszm9/O2l6PP/JysLLNqoRUQAw6ZLRn880Jz9SdOfNE55ZIL3+TvFLqnR1sulW6doGuPK6Ce+eHweg/uX57b8/QM5L4te3GDP3hF67OTeXR7v2lt/xr6pvnY75UuiLjopX75h6Y560f2f9ZRsr0i04RYf/uzPx8zeKXlQSvM8kVpY3z3vXszCLB4DVNQY33Fv1sxFpovrW2ztv3Y8uijU+qwcAePwW2zm8dgofAFMAjAEHpbSxqnF/C7GKENIAW6QpYxNPwcwaDgSKqryKTiNjQEdu8vR44bS39rjQTz/aueR172tPzbkxTz5VIWrhQX9jm2I9pEMit9PfNvSTBjtwZVvw891t6aAonHThuMR1q/a9pErv/Wba5dlSS2FJyuONO6cnnZdsufKH4y4clwgAz/593R1fNbT9IPE3P5249bHdMP+c5XNjEYK3NgB1Rh+H3SJEjnmTnyGY3gzXqttGJAl43aodLyoJn/4m/+IcuVP4xTlHfgp22LS9Lu+dMgDgLslpv2d05PSkUUn/vnpI6Z6ykc/WFVaHp3Hakte9P3943LMTkz9esW1plf3TSxO11uYZcVExTgwAcMsts+Yl03se2fDEh9W+uXHFWyp+f4C8esfUG/NkT2113EMHv56ckpYv/unfB/GEoeqtw0WgT/zti1s+Onjtb0cDAG1WL795wjMLEgHUz498dCOm5T+zIHHT2oLZ/3VXulUb1/bTleprT825MQ898NjGh11D754eu3b9qYwxmAJgDDgQQu+8t/+eUi4jXswStM1NMGtKxsZbh5+sHE+r75fPFW0RpAkucbdXo5a6T382oXsX0MukZDinzcZJ30/vbPy24k+FWooOO3wasvIznMZmb2zZidnQaUfbX94ukc4Z/ZtpfRT/5zgUl7U+2uLlgsau4enmOGephwDAivd2rCImAFBF/a+n4+KclGx7213PbfEFtfK27rsCdYREOGZMoVqB3j8zPUnAAGqphyAUeuP9ne8RM6SbVDEiwo8oEIBR41NXPJGXDirFvBNBIwAATBuegBByuOwzBNOrmdRimZGFtlYhMirU6lEA7EdXTaljXBwPgCcmIGgBxSDB9iAArFhZuNti+IIa+M01XmOJL/BBG5dR0XLvc+2+oLa7lZqKVmMQAICkhNumxx4tGem2i4Y7ACAh0QZerRXxpiiAHbW5wyRLrAhQcMGpDP4BgCkAxoAF6bavHpmSy6O/PLT6vnXVHyzMnmvzlbdBklOsb/bHDksZ5eTDgcCusg4AECzShJGJPQ6Bfrko/5kFiZ7a6mueKr90dWPjzdm1Bxr11KQEb3N1IDq32FlYr+gUABxpEZssAECb23ugxt/1ZI/VVVY3NbQbAJA3Ji1JwMFgeHepGwC4rOTp8UL2sJS/xxpp8XworBSUtKUMibV4vJUdhMRGjcuU0oOV9c3eaGsjxusjb0T62fVTfwZgVlXzy0qviJoXwDTNSLMVLnoX/pbGLZVmxEwcaaojLYGraHj+QCibb51gNUYMiY3tvzkD8ZMj1wBUB9GoRVw0PsEmYAC4Zo6YPiyhpbwy7/flP1ky7JpJ4qb1BzbUHVOgU0CRJdNO6kJHdGhdhd98oZicFnO0kFiRS7BglxCNjKSKPWxExxK/dAjcs3wv9zJFCa5VDwyLEXDbid31nOGxeU4UubvkHKuEVADIHpp0yXhrQNGukUVskZI4vB8ArOoJTnNtNufdY+Cep3fcE6B4WtymKzJO2cDIFABjgING5UhQZABAWVnb9FcaJ6ZaCxpDT/3GkaJpyx7b/ZIqpVtwnVt74Kbxx3IR0QBEu2PIodHVn/+17wN7zGTd2OkWSl+K37F614Uf+ZCVBwBqqXv/9omXZ0st5ZU3PFex1hTSQWnMSC+5Kz/V33H3Pwv+3SZ0ra6tsuFn/yheawoA8MtF0t8WJP7t2c0P1QvpoNTR1rInxzfvqZr9lvbegxPm2vzXvFYEFuskq/5xLQWA938/6/JsqWjLvjGvtCErT0MGAODJQzy3DhG/uyNQ7/3Lhidbo/f+kwtz/rQ0R1C1BU+VLlpC3r466923d966WV7/QOyX37TWg1y/v2leRfuGn42NS+7nSBuKQZxRy5WYk2qDbzxt6YnX57sA1Bc+KEnPTwk1ewDg3ElpF2aZ7685XNCrIHeH3qGTJAGnxsvIp21vNpLCLe/v8wPEH1WPODwWgzvQVfjQEUeMryOLwADgQxBvmoRQQeAlrYdQVGZV0z3r6VN/m3Z1Eg8A8fHyiXS4yXEiDfnCcTGLZsWLQN/9aG9yToLN5bw8wfzYqw+ZlJbL44bKhpcOqhee5MTMX1X3ZLnz/b9OmGE3ACAl7tS7caYAGAOXXfvafZxnyacGJCXMy5KKGwAA8MQh9KFkAPrE3754ETvKnpiay+Ov3t1wwfKaH02L7eY37ZCxu979zV4o21v5wn7ywAXOJEGPt3KoCf3lr1PnJYu1FWUXvum58+YJf1uQqHvaf/yHbX/4pOLc20a8+WH5GiNh/yNjRzm5TQX1SRx+Z8W+F4K2/Q9PHuXkN60tmP1i+ZVjXWpV4xo/WvvI9HnJ9JsqQ+hoe3CDOemWMTsuSy482Oak0AwAABZKAWAUx9VlxP/7thFvepoXPlC4/oDv8mznH99qmHTJxB2XJW/9tnj6x95NV3R3VumRdav2PdkatZ5X7y0c8mTr5dPTLs5J+Whp05KdDf8Gz2+3my/emT87x3bureO/fWiP6wcTI/OGYDB82j+mE8QdMj/zdu1e0az5o55v3nP7b7feFdQBYNFtYxchiB8//K7Ju266a8NNANecb0M+DQBQTPzPZ9iXvLwn+WV4/9nzLpuV85uCgptu/RKmxT8/xvmfLzQAMLAK/k756IJFY5/3HCmck7q2J7IIvGlddWQNANy+n79+/p0IwG96D6mBb9thKQBKTZiRVXrXg9vuClAAGHVR5svX5mYTfUddeAoAAPgIRNoJAB0aRj7Nh2D0jBHLm+nV/9j1wO81AMDXjCqVTCzZ/nH3OO7Forz5VQCAxjn+feMEiBi1Qoeb5w6ZkU26qmZSxRc+ZLujig8AcKIz3VWz9BfrIycXXT/y6SsyTu1DYQqAMVBxqde8VkRDxk+WDLvrkqjdAFn5pybaAYCooTWNGET41xuFANBSpUFL26ZKzV+3/41iHQBih2fckMcDwNu7W97e3QJe6an7p/483wWgAgAebZ+XLAKA2egHgPNGOEUA3ipdPM7ysZf4g+HN1SYeG5Pv4ADQrIkZRA3uaDYApFfeKwKAQH07Vcj2ZmN+TuoCR8f/Prvrghzr/94wBnjr/XO4h74+cI+n+aJFI8cIuKzLDfkVMm94QoyATatjphO87X4A5xA791FLSNcNI6Cg8AnactWI9fybVQWbZStp7+i0ni+eP2zk9l2//TI0a0rG4rFHmKo1gP7yRCIErPGxLzw44xnRFnPEwrX002sn/fBiJfLCFmdzIgCwP/KLqb/9HxMAXFbuyZAZz2MA+MHiMQ0XRC6TEJIe/vWMu29HpiilWtEPL1ZscYLFmdnwbJLrsP2sR+GHkW223y2bfrd5uD2c0xILCQ3PplskHgASM5IannXZ4mxtByu3hJxP3T/ypkxZq6pMfqT2jvS4HZclV796oUXiAdCf7536IPCRW7v+pmmX/wjieQwgXbVk3OzZoU7hkUX7tCFpLy5zPaMDAJiilOHgAWDuwjENF0CSNdJE8YUHZ/wTeAfQaXNHN0wnLhsGgMwRWQ3PptvipINfN9Z7XWtfnjjZRiu3F57zRMm88a7xzAuIcVbhlY7cCUmNgEKpw2WJztxdMsUWfkKWFQBsw4ZediGMHSKaQcek4RgAxHgZwACAXy7Kf3p+Qrf1T+q0AkBnNiS/dsS6IhcyAuIR67ZY4gEA26LVQVb2wjl4RDKf5kz7/I/iiq/rX97QmvpKdePN2Q/87wWL95av/Lxm/i1Na1+eaznuLWogzZ7kfOL9cvGTMrCj528fNSruRNeLqUVMzUxMs1DIsn4wBadmxQNAa5v/gCojK3zb7KvwmUnxA8VNCCGUEO86+jzH4dT47pkJrBbZauk8jh5gyZbaZQRvsdstdgCgACgqQeBT44/o0DiOO1p41yYdnaWAUtRZRBD4lDgOgB6sbQcAuSVQJ+ot1QEA+EESDyClxkcb1PXWXE5b1/vssQHdrjnqzOFnZbNZbIcEdD6WogMe6oxHzd46GyqqDYMdZVllaD/WjR4PpgAYZwy8XQaIDuiwxI+KQSvquNyJ2dPjBaIGH1/TdCklwoThIw5d31DZ4FcIRF1HegAhJKalALh3Vfovy5WV2pafbjd/cqElLc01IwXWftuy9YqM6fH8h+srx87KmZzMv1DIpYzNmpcsAqiPfVK3UKQHdpfWpuZctcRR3rD9CwCz3fOvEuXm8/Li/P4HN7T5FHp8BcCrwee+Ddx584Q7p1qtJsTH205skC4Oj8WoiYq5CdfnuwDoKysLp4iIqMEVn1bm56X+30jhhuU1j6xt/OTqTADwK8TdMWAz7XxPx6TTvQ33yIFC5OX4mSM/bCtc8p8DkZOvPTz72hN16u0Vt6vrrpkQfnf/vH/sAwCIt3766OyLs6W1VcwNlHG2oIVN2ubteoZSMAIK8mnecMQ+K91/63jfS0UzbvwKgjoki3fePOFoOd+2Q4bAKRS6Lqu6QybyRSbmNDkreed9wUn3Ffz9LzrYhB8tzbr3ihwR4A9X5Va8UhYRjq8Z1TgTbrlqdItRMv+WryGog034yfW5AocAYP4tXwMA2NFrD6cmx5hrV2y//YHdYBNmLc6ZlyXtKDxsw/22HUa3+wESDQqVAVMFHkv86DThqVd2//3vFABgaOLa342+MEnoyV+TAgA0axUdOgCaOy//MX/5XV0M3AsAiosO3PFh+Knn0q7Pd6Lyqutf2PfGpKQb8+Lvnc4veXmP9DJ8+s855yX3syfomQiWbIuvmEqvPGSIp7R/HyKKSbjlp3N+cutpaAXLCcwYEDz49PL8oalXLZ4TednU4lEMnJbm6jqq8fqCnoCRFGe1ylE7SSistHiiQRO7XQwAum7UtwZ5hy3dznXpUmljc3tIkofFRKbWFACqGnyR9+JSXZ2W4kh1AMA7bBFDbdfqIleaptnq9ikG7myAp8PvDREAsCY6kgQcERKX6rIYhxtDCGl1+wyLI9bw/c/fdqXOHb9skpXztNzwXMUXI4Z6bh3S4zowUYM1bqOzMaZp1jYHujYmUnXkuOvFkePIZVwobLff1+55qG9yNOq6IYq/bWz+Y0pSDx7ujNNIJCUkywnMOBvosb9wOW0u5xFnrBY5x3LMybggcDlpR9udUWpyV69BBAA9XXZC1XEc162psTGO2C7u5hEhlFIk8J21dJZqKWxZ0YofxKq7AwVblSLTXDrcdazgYliy5aQdUXWnQEopAOpaNZZs2ak0ova6Fgz2LJsxSGEKgHEWM1DMHcfaghs7InfrYve0p4vutyMI0CvvnvzaDMcpmHJ7lN/v+34ZAx+mABiMfkMQ+Kk/mEV/0N/tYAxWBoqXGIPBYDD6GKYAGAwGY5DCFACDwWAMUtgaAIPBGFgEg+GWI3eBDFpM00hMiHU5j7mf+XvCFACDwRhYbNiy75LffQB21jsBBIzX7zn/x1cs7CXx7BEzGIyBRVjVcnPTxoycALSH4MyDCIQqKw8oCum9GpgCYDAYAxMyyOMU9MFODrYIzGAwGAOS3ld/TAEwGAzGIIWZgBhnKp4Ov6KecjbsswqEcHysQxDYz5lxcrBvDONM5e6/vP3qt9WAWcQbAIrLXr0td+gp5gVkHI1GgJhE4DHXO98vSqlOkdjfJhimABhnKi0d4Qsmj3fEJA7ypUKM8Ucbv9J0o78b0g8oqtlOEABIQB0Sd7r605AJM4Y60hzigQpvWdDgEFBKAxqRhGgVlJB2lcbIXEQ9KDpREXLxJ6orKCG2hPgxOLixRetfHcAUAOPMBiEM0It+cmcAgzXqp4L4JQtGnJsRzcv43vt7NgeRlfu+YolpZOfn/mJebFlt0N3kLwkABurjLfddlLV3Q/GXQU4AQtJSHx+LX/2ioZ4g3SAXTB0yGXse3+47wd5c1ekPZg6bz9d89E5TmqU/NUB/z0AYjO/LoB7+D1oi074JY5L0muqnPih6vwndfdOocYKpESCm4Q6b7rAZOrSLgBISORP56yZK0UnX6z0amjY8IdxQf95re79ujo7Qw7yQnp8ye6Q1TGhApxfOzpg2Y+jsbEklEDToOVMzY61I1U1FNbuKopT6VTMi32vQzpZU69SrDYgtDmwGwGAwzmA8Ibq5VTmw3/2bcWmpEhSEzfSxuX+e4gSA9av2vt0KDmIm5Gb+aU4CAKhh1fD7/rK2sbO4O2z+YObQS0a5AGDLl/ufL1d/uGDURXnWWCNt2y3Sf9Y0lgUNDqEYX8dnRf4b8tMSvz1YzjsuiJM8HVpqvBwuDgcFx0grXn/A06DTXy0aHZmRRKsWhTsWZBxs9M+ZkNa4r+LxXb7s4Zl/mpOgBT3l5oBQAGwGwGAwzmCS48SrRsf+9Pwsd2PdVg9Kzc38Sbb68ury1/YFb7phwnwHTcjNfPLqjPWr9r62Lzg827Vje6N2yGSoqOaSH07+6QR+5eqSZ7b7Fi2dfHuutG1P0z63Eaxv+c+axkbNjFj5RZ5+VeW3xbtGxaD0DEcatC/f4xszIr7NpNaMOFe4dX0Fvfua6VcPNV5eXf7Mdt/VP5p0XSJ0iJYRE7NuuyBp87aiz0oCdEj23xZn7tlU8naFOHdMXD8+tE6YAmAwehFKqclsVL1JbHbignGp+abfiqWMOLGtou7nH9Z+XuV7YtXBas6ZlyINz7Qrra3/rDOe/KiplsoxIjEoAACltIVzXDzKseGrio9qlZI9B1dVm/Onx4fbPX5PIEyMz1qUsBH98BDmggfrGh0xeSnSiCR7OBj8z4GgmBgzKkTmj453lzW+iB0X5Vk/XVW2rTFUsufgqnZp7pQEi6EDQPHWijcL1TKFXDYuUauvXLYztHVr6cp9gX58aJ0wExBj0BHx6IgMA3kB2znUe65+VrucSs2IJwmjNygpqL9xTbtdglfvPf+GSe13rDPuvXbCBVmCDnwMVgoASmsD8nnD786taViQHhNoLWijUW8dSkUbJxG1roPGiBgbZn1YtyTb4ini4xzgbXJwh8fHCCEcCpbVaaMyLUKMray49dtmCOChl4/hh4107lnl5eKTRE5p8lMbBoxB92t2W7R4o0dzyhyH0JBUK63TUq3YhqlXMwdC7zsAmsBg9CGUUtPuumNyXFa8BACtbv/bX9Z5uF5x91Y1cvniSYvl5mv/VcpJ39s9hXEMUq0YADx+M0sWFlw0/uJ0LfahbWZI3vPITAAYnmkPNrTkTxmWD/DA04X7JS5RAAAAhLSgqWIpIwZ1NJoSQLpFCIeCbtTzlE3AqKgpPCkzrom3N+5TJoWU9+qCF0/PiqWB58rNceD3aygl2RL0aZiA4BADbUc4p2HDrGwMTXKIjSEiWZFLHBDfB2YCYgwyKEUOy6yZOXXFdSt3NtDsnIevSOlQTOjiDRKZHFBCurpwRDw6Ot8FAEpp5HqvQU0adfkwD5kX/KpJeO7zlTsfXl4tiJyiE41AREKP3ikRIYyTJTlOnJVpnzMtb0Zs+Nt9HhQOA8CdmfYHrx4+JsYEgNLaAHE50pMd6cmO+3499bpEiHyCCKEk07+5PDRjZs6STHnatOGLsrm1W9x+0vNYQOLg670NkJ09ze4va1LjMP1ij3fEhOHQ1FyiQ6zp39jKzZqeMDXVOv/C/IWu8Nfb28K8cLi4gAqKm8X0IY9Osv5g5tDFY+198XS+CzYDYAxK9FBRsee/ARx0NV80NwWgUVHNMcOSr50ab/h9Xxa4v6wPp+Zm/ihWreLsFw6R64rrnt4XuP2KiemgrF17YHMQyWAQZ9wDl2XHYK3V7X9ldR2fFn/7WMvbX9Z5OeTjLXfOTanYdrBxWMZsvWnPbnXh9KFGbWPujJHDBLVgc/mrtWY8Nmh6+qNTXJEW+X2BjzbU15PeskedZSCEsGnsLmyZEh9//Zx4AHjr9YK3WwFqS5OEETdfNqqlpOrxNWqoSZ07L82oqh/xajkA/PXaGUsvSlv9Vk2k65Ml7tUPdxjzRixeOBIbgbdf2fyBj0uQcPneOk4J2oQjPgmEsd7s/mBzY7ZRX9RBJQn7DtZ9udfStLstRsQWTP/9xmbnvJxbFuZiI/Cv13atD0CMED5QUFMcECxYQxi1ldf+ca34q1kj84Oex94snBpHY/p7KzBTAIzBBaUEAECwZuXYJzSTCyckFxWXAkAgO3vZD5NXr9onjB35P4ttu58rjU+Pv2qBc+u3FV8VBi65ZNLy8/1rP91fPGbczy8f2vRORUlcwmuXDavfX7GywZh33qj/mx+8dhs8dk7uwuK6lxogPStu4dS0P352MOPSmBlm+K9f+XLHZSxZkPLvFftLUtLuvnJs3YsFO7i4x64ZUbZ6557Y9HtmJXy4oqqJst7/JBAxfLSm6K1DEzKLGLXtrFhT9BYBXsAS7Qga9EaAWJ78ckQcAMzKs3v2VmgEy4cMMInCYSGOQ9ahddsqP+tpZ69MjRVrigiHXTJGAE4j/MA7uy0iZ+UAACXw9J9rDmqHRLl4oET/55qDnfuHZYlrLi6/fQ+KXLC3Gr7/trXvCVMAjMEFQpgCaAqZdm7OWFtCptb840/rCS/dvTC7YvOOG3f6zKLy8mVjz0vBpQBtze7H3qqujIuZNl1VKyuW7QzN9h1cfHNeilSRN2mItb3xvP82zrMLu9SqN68eOuezHcv3+6+YmfLkfxouzU+uPVCzPEzv7lJ18a6Dr+z30QJtwcRpE1NwvRjn9De9VeD/Nli0YOL5dtC9Bj3xcAIMAJAlTj7qpOPwcguSePrqhzvi5+XcsjAXAFq27LlzY0e3zbdHC5EFfLTYo4QDQijecsRLx5ErPUefwRwfb4kei8e+rz6DKQDG4CIyAxA55c3/FN4Xiil7ZOpd01tv/EZxyihv9rjamRgAEmxSjEgAAHNCvJVroqEAcFJAyXLyAEACOgAMSbW2NmjnWEVJgHINa4IwIhG+3ttw3Q9Tz3c2jkqxlGz3JElHVK0pugNTgzcBwClzTR1hcGYtyDnocmYOpYFNzYYF9/eA8KwDIZQooM6BOS/g/g29MNBgCoAxuIjMAECwihbu3LD/4x3em8cl1q+pBoANK3cs3RnOk/gy1ZhhFc4Zejw57W410SE2hkgcj4eKRNBoowrttc3l4ZzcHFe6BT6oDNiRdBwJKU6L4Q9OnJk7U9Cfe2XXpx6UZjnO5YxThjqYC9YxYMqQMbiIrgEAAICIoaC4WUpI/o1F/WSPd/YlYx4a4ZyYlbj+pnHTbMeWwIkA8FFph5CRfv9oKTbG8vMFw1qqGrcGQUS00ROeOX+c01u1K2Dw/PHSFTT5wiG7LS1Rtjpib7p+8o2pWBvcQe0YfQ+bATAGFwhzxB8uK2zwUywJqL6hfdNe++xR/ENfFPw5NOKOJWMNxf/1FwcLwjC03V9WpioysiGorna3e6gNA1VDheUeHxaMfQd+7Ev7x6UTLtTD5VVFv/2yNUYWALm6vYQAACAASURBVGDl7rYcC922oVlBgiSAr95fqAYssdBS1Wb4gwJGnGzW1Hh9HXTKUJe1qfymf9UXmeZPrpp06+W5W/9d6kG9FYD+zAIjBIDRYB+g9vr9MwXAGFwghLiAd9m7nkj4eMEIP7qymOO5TDtfuLPsqq0AADEidkhcS0nFPXtojMxZEXy0pojwnJWDUEB5dGWxVeRkiaMNjVf9oxEAbAKyc0Kk4/ZX191dWnvIMwQ2ry/5CiGXxH30RTHB2CpgAHjhvQKNwJJxNivWM1IFq8JNTbf52tyKAcBsFQDEJKUtrQjtHeSZHhBCB9rbAbJ6r4rvrwC6f0YIAcBJjGEopSdbhMH4PnR13ujqpyELOE3ochnGnQ4bstTD9Qjjo632XUtBF38SWTg8mnNIHKX0g1UFmZeP+8OPxgNAc3XldR/Wptl4NvwHgAmjhy7/xTyW6g0ACIXcnNTek/8dCoBSSgjhOC5y0BstIIQCAO7yaXMcGwUxznIQQgk8feG9gscPJbTKtLPpeJTcoRksvWXfcELfOV03AEA3DEooABByRCRrbBxe6SL8Sfu2YswhjASehyPVAINxdhOZTDj6uxmMwcyJDjq8vmBt1YEO5bsnAYYhHt/54VhFhmUkp6ZlMh3AYDAYfcN3KACEkKrpAFBbdeAlnJUXdxKOyqaXcC5segkABMzumiMSsykCtVi21wYXV+6/YUki5aWI7zQzBDEGG37V5Hiu38MDMAYPJzQDUFVdVUJ5cRao2AFV5ZIlhiM+AAipx5sQcF3+p0r4OBe3Bm2QNQcAiK4hXgIAjAe7/xejN4hkAvATJAEFgBiZ4xAoOhH4fne+RCGT3nbFRN/2/e/Wm0wHMPqGnhUApRQh1OnfQw0lDNHYGPNnTuEl3mJzAOIAAOhRmS0RFz2JjvwWU/PoM5op8EZgw97q9e2KyftU05RMA4Q+CpLx7/98dtsfvoLkQaZsmskLD59/6/UX93c7+hpKqYqFa5dOuHaI4SOSp631lRVlhVS6bKKrYH9bf4fhpJ6AmJXlat5HdEqZUxyjb+iuAMxDqYpNjuMIIYRSQompR0562pxaioG4OAAa6eVNiBqFJEJAQqBSgzM6O3rMYWKSaNePugVFwgCYVwOqoQGARzOBB2Lq3VaYe5XqBvek+cOT4hL6rMaBQENrs8cb7O9W9AOqQWeeN/TaIcb83+302OmikSlEltaGrS/NHx04+NX6VjrcxqkGbT00VXXKnItHxDTKwpDAoZBJQwCZFr7r8JwSUhci8RbeyoGimtU6HWHnAcAdNnkBu3ik6KRHgZFsUwkSFoA0qmCapMBgXkCMvqb7d47jsAbICCvIDOu6ppomCofcfm/Y21pmzUnyVKhKstXiQ6aFcjwA8KY/UtAEAAUAAOhhmVjjMWADm50TBZ5Eo6M4ZAQAfruLU/ozN6YkiJI9ZvDsN0EISR3t/d2K/sRilZYOgZdaoaimLRjm/nv7mFQruvmn029oa7v6jYpJk/L+d0G8GUYAsG1d4fO7ffzYkTsW2rfUmqPSrU6svrNiX6eJhhJC0lI/+5/8Fc9//XojufXKabcM1Sb/eVeMgO7/9Xl4x95lGzuumDnk1vMzwqoBANtWbfv7AcMyduSuS+MONivxdvTB8j2fy6nvXpphl6CpQ7dwWnP/Ph3GIKO7AqAUkGEoQf+2/W4f9gOAQ6N+EYHhypMtyqi8LR2eRCUsiOqJSNePHdwknnfNHpckcpxCTQA4ECZg/R73caoQRIECDBoFMJhtC7LIFWyp+Chv2l13zlxaXTv72ZpcF730zcLSX+Z/9OKWp+voeROyls2OWf7StkcPGhfNyH34guHfHNhRAiDanYEDO6e+7P31tVNuuCDr9ZfL8aGgzeGDbXvbjSlDpEcbqBNpraJ8vhOt0xxpFry5Ppg8JPUX58b+7bmNL9ebV58/4r5LxrxVsicEIFosrTt3XblDcXB42c9yg9UHZv+/potm5P7tUuYUyuhTjlAAlFLDMA1VaW1p/MSZlCenetuNljgdAMAOvqZGEKwgWGuDGoR7FteVKr9ydHcj1whKll7rS1zm3TR9wiJsavhI05CJBGAwegNKCdGf+teGD4Zn/u8lOdWPZb6zvKCxkQMAWeJyrObE/GQu1PFJs3lOHLev2t0uZ83O4ksAvO0tq7b7RjvxV1X+m0cmXBhbkZqbYHPatFD46x3Nn+zx3jM66dx9dQDw5l590XDpa2FIqrd+TZU+d3Fa0N2xvM08J47beKAldOHEH2bBOwCKz7uqVB1i5ZuIdWQsV7benevidm9vKJmf2d/PiDG46MHsaFAwVAMAlNqDqTU7c632YOiwlcZm/V6pLIPxgVA7eU84XxSFUDBiMwJZtFDlBFQKg/H9IIBiZM5XVbPozzWv3jf33AkxZdVK1wt0lcBxd6IgZPiwkOu0JQgGuASrgFpL6/jxWekp4VzOs7LYvGhkzA8IX1XedtAgC0QOoIeZrc42uzAGBjwABUCRgDwIgW4YuhrWiBGJQzcuPy82Nk46cn8vx3OU4wFxkegmOunJF+gokGn4dcGmBvbXVUIdAIChK7wgG4beC/fFYHTHpHBOjsPfGl7fYoDFaudRuztqyYwRSVWIFhQ333xZ+hipfJWPnDsiPk7xf1NjQC5Y7LFTc8VvytVrMm1aa0eRR93zVWWkoFXkdI+/PCxfPDnVW1JcVCm2nz/2+hh49++tMQK3tbTt2oUxo2W8PWguGp8kqv7VDQAxh5vkUNXqdiMr01m+033ehIShFpWtATD6Ep5S0BEIABogpBuaiQzgVSUEVihQYK4NTM5p8DwAcBwv8AYxCY368ECk18ccHCtsKdYwSNHBDuJ0EbBiEk3Vt3j186ge8QvCHFa0MAkOhPxojLMZ3SBceuqd8x2/1MNIsKD6A8/sDM7R9Y9KtJ9fP/3ciqrbPm55pST5wV9M+oVPk+2OresKC8PAAxBiTr9w9GeXChJnrPy4hvCco4vZUte0A+3mj89JfPHrfRZqCA5xKHi/7hDsLqgtq/tXTuzzd53T4tNku+PbdYX1JrUASFzUzumS1Q+2NDw0f+Q3Iwx3e6DNOFYiQgajV+B1hJBuKKoSVsIoHNJV4tH8uF3waR1qgx8jgVrbeZsVADjgDNXkeA4ADMXkeM40oi+PhQlAdR6ZhsVmA8kVIwR1MUZ0xndeQKhJIpuE3aHIGUQMFqSa0RvIAt68vqR4G2cVOABoDSgG4p0crP6sYMc6ZBU4iej//XTXjnXYKnAh3fSETZGnBEAN+f7+wn5/DA8AXo1226Ul8ejjT3Z8+TkK6JDA00ef3WjhQXQhhOBogQ6Jg9Ly655ChGARAwBfX1J1e1l1vMy5w4ZGDkhcD7nIGYxegjcUnYb9qwoPtqDOMA84IFmcMTEwAtbpIXtQDLSG7FYRwACAQ//hqJcQCGl2qxgI9RAIKJNrX3JOni5bdN0PAFQJgwQAQAy9++4wBqPXkAUc0GlANwCA4yKWTWTlIHKSQ8jFQ+cFsoAjoxNetgCAV6McAvGouS5CiAMI6JRDAIAoJQE9uqcMHSUwUsQglEPRXl7EQAlpCVEMVECDyR+NMQDggZpBt/cTw6FCEvJXNWM+er6+BQBqgQeNeJtDrmQeALzNvu8SGCrXogogozKqG0qH5V3Q+M3isVlaNDQ6kKABEgiY+fww+poet/t2Pdn1GHM8V3bw9goI27nj2yg7S0X0wfFr7HbmUBE28I8SUnSfLwAALCIMIeCwyTZbb2WL5pFpqNgAgJZg3XUtO5Pi44++SEwVNLVFlAQ4qcwE2QAAdQ1Nb6sJQ7m4gKYj8QgTp26amI8OssDfdxuAGYwTh1Ia0HtWG4xeYtPWfQvufRdkZhsAaDdf/+P5P75iYS+J51VTN41o5xvx+TE5pxUpISpbkWLwdpHTAXEmFTmkaQYWeRL5f1jGsV2AwkF/nMvx5EbksAQMTeWFaKZtFO5iJjoBDyIGox9hvX8f4w+GcnPTRg8fQ3snCdWZAsK4qrpMOYEg/KcMDwBIMQD4Kr8CsWCxOXgiqlh28gZGLhFA1XmJpzxQAIHnAREiiIRiAQAINTHiAHow40RWdyP+o2WamWlqAGAa4a46XeA4E46KGcdgnBysez47DSVo0BuA+uAJdPe34QWZF2UZjEBIM5QAAGiGdlLpXSRelKxWu8MRVoh+aHQvBXUAwIgD2l2bRTxKDzeAO2M+9UhsYUngjl4YPD5+1TyFUopqEhYs/ihMXaVHfakGFQiz78RZSu97BByhACTZyouyJIohn39lja/YlpDsNo5VMoJIWjScJJKWtlA8AEC712sV09TmXy2yWC1WHVRJtpJgVAih5tFfVXJUrpiBgKKTdgNMk4QO7eS0cigSPr4TFQt3LMjYs7VyWwideG+uIP6OBTnF+xs2tmjfWYpSSgBFYtYvWTDKUV35VsV3lxo8rNtc0INfTh+SmZ6YGRe/eWdR/zYDOgbij4gx8DlqBgAGpUB1/otCt0crLzwhITVie9Q7KNBGAcDnCBqLcjE9YuZAucPuzTR0WK/gvhryU0qrG31JcVar/B2uR4pOxkzKu31ugtUEi8QbqqID39rc9Pj/q/Rw0cwhlFLeZh03PrlhT5URhJPaxjZsZFqouuHr5u8oRSm12uVUah4M6mFNyM6Od2otpEw5C3wjGt3BwnLPrPHJ3/lZHId3n/4ZJRT1a1iFgpK2P31cqn1znW58x1CpV6GEyvJA2Uq5raTVKqD8nFiW1G/gwwMAlXnNH+o8ZRjYEuv48/nZasCiKqFjl+1KTBhkCyiSbAWAWIdTFIDSk9jPJYR6PRZQWDWu+sf2WZn2Wxbmjhl2vBwAsoBLd5VctRntdsRV/3rC+hXblxWTVCuWgIYUAwCcMuc88rsdif/u5KBdISGTAkA0RrxO2g1wYNqhU47DyTKWqL7ozxtSrThFJA1hHJlkpMici0eUkHaVhszolSGNzJk1amlc89KXapwy/P65DSGAEXa+87LOWighjSo4MPUTZJrR8PQDGXdH+M73iy7aWXftBcOmjkw8NSFWS//vm5UFREwiCLwgnEm7F3s14159s//KD0oenZH+o/m5KXH9EeOXccJ0LgJHIUgUBB4jmp3k9Dok6LpZF7p47HSu3FIzEhRIN00AEDhOEPjIxpnvg2GYunkqBjDh2B4bAoc+vmfGv/5b9KtXCi4em/TzJaMAANOer8e8kGGjgkgBwG7lcl3I5nLduzQ/1wEAUPLlzr/u0zp/8W3U+tivz7Hs3f/7beEHrs0blW61m75/vHfws9rw/Avzr04I7aFxs7MsWn3lbSuaVNm66r5z9q3eUeDMfGpugtUEl03cuvLbPxaoI8cPe/j8tETe5Dwt97xxcMSU4TdMcsWC4793J65bXWw5b0pyadEfv25LTk14+Mr8RN4EgHWrCt4sU4TM1Lfnub6oRfPHx1hV5YPlez52w/F1gK4bp/aETwtD012f/Xraq2tL73599wUjY+5aOq6/WjIYyRFCYUUQe2vGcP6k9M3Jjqc+KNz03LYfjE+AOd8rfOTpwqQQ0syu8ek7R2ydZxxS95U5RScEYysXXfDrLN55ZbfzFvEMW6WLzgAAouYaTDXeNIOSKBIkizwxdc3k8OF4D0dP2AUAoAA8FgAAOBF4HiEeIwqHggWhsNajsUMn0OPyFcfh3cUN17+xP0466VFVVoyUYjnmJ8DJVhsHDon7eE/LpnJPoEOSpRMynjYp5pM3j8msL5r6bltDQlzpLyfdrmz7SyMFAEU1/3TzhMzGqv/5sO3mn0zLhZoL/tpw7YJRP12ctfPRImqx5OXHfvHC1gyvc9+vJtye1/pgOeYtvN0ibN1a+tXmA2m56W9fm72qVBUx5NnoB69veqheWHPf9IcWema/e8CRaL/J0Xj5fxpCAP9YiKw8IVbbsivz23YUnrOm5eLR2a8uHdv0yrYPQXBmpo09uGfu/fsfuWPOlRekvf5WndXS4yiP8hz/3zrXsltWneyzPe2ck2JJlPC6ko7P/vSNr771kWEntc2EcYpIk8dl/nmr6enFIIxcrHCeXRAwevXbpowJsxWjn42WGoFRWQkXT06NwZqiUwCQBdTubn5mB/njRSlWEWQBIRJa+XlN1/U8jcAFU4ekexrfLFNU2Xrn3JQkpygLCABWb6j8qFZJlZGPt9wyK2lIvBw5v313/crywBm0SnfEDEDEPAAQXnQQaO3oCHt0gx6RrksjR1zZ9XznGV7iLfaYxLg41dQxd4TCOOwF5DeR2gHU5CiYqPvTMk2Slhrz+s0TT+F+vF612a8c54Kgj+6iAADjMm07vQc9quA8AbGljrhJScbKNf78GH644tnYyk0fl26pbQuq3O13zK49UPOHd2uUBMfMXOvu1cGLcpy1bZrdlTQ5CTSAmura9U3kXDO4vdkYl+lsLYoau3gBW4H8fMGw8h37v1W5BJF+tr1qQortVyOg3kfGuawAYOcwlfkMK+4IR59k7rCUDM7/RoFnQaysN7vLYfjEUbEf1gPooQ+/bBtuR/v2Ny+eZPGb5BjegcgwjUuS21fff7lm9OfKISLGuoLmR1aVT0iU77p81IqP2wiLgtAnqDv2Vm76XYyztwxoAiKtXu29DVUf72mZnOnY+OkaiZvUS3WdcJNovce/oUB1SOI1i0a37tjzUQ2RgmqlFD9rfPLaT3btCmGHJNYigUOHzSHBMJc7LmOSN/zmgcZG3jJrZk7hml1r2qgtLu7HN0yf8dnmR/aoYVmYOy2nesu+lQ2GQxIbmpQza9fI4RmAuyOgkehkrdXd+ruKSKRcq+YPiY6oIS/Za6nFbsHdg13Pq5vUH+natPTQ3r/cPg3xctdIQceiRy+g1HhrSpwVnfSj/I4C20paX/ikwS6gZYvzZ03MuP/Jg2sqTii1GYpEg/FqABwA6H5N5jUAsEnmpr2eKSMTs6zVewXJiWDc1OxhBg8AZZWNVchIA+gaLy9WPNxCQyeu8SPOtXoe3NTu4riARn60dNq8FOpuD1iSeag5ZmOIqQco5hCEdV33a3Zy+BYEjACAl75jdi8LnFUW+tE62+gOPrZ834Yq3+8X5S6clmmVhfdZiPw+o0qPtfMuu9RL4reVtP7+nX2Zdv6JGydMHBb79C+Wo6MGeX0MQigcVLd2hFuQ/ZJLoKM1+FmJFscDJIOpq+VVvg1+bMGIQz1s+gsEox2UppDG2o4v6rFMOlY2mv+9btq1HVse9/AA0NbY8UU5dXHQo4SBTPc1AAAwiS5wXOLOljJoiJzpXAjuAFACPewKkIK6ahMizv7uMJ9kU7DAUwqd2eR7pqctYJGk8JQCOvnu//iEFP3PKwqvmJF56fTMGLsEAMYJe26kuj1txojcHOdL270AkB4n1pXpYV4AgNKtpQ1xM//3mtz1z9fXabR5ffHSnWEAuDLZ4lGktGPLbI1JeOGStHUffbPKR9MEs96ZsHgkXvvGlut34sdvsd7QxXAa0GnIiD6rxvp2nc/Pk8n2Vup02V0Wbp/nzBs5uzvC6XGW/149NjXe1t9tGYyQ3txhW1rn/fHsrMivTNf70zmqGxKPxEPhJWwCkvDhH45PMUHm7CfQedswWAVOq6wuUYcMTbeVNUeXRdtVA3PIIXFnngI4GovD8dtrctRQkmpokexgR5TpYpo3VCPysvPAKlssNhvRDcRHL6Mho8c1AMxhoCTiBqr7e33pxCoLK5bNPnFvDdJlPpGKlPe2Nf10Tu5LuWESG5vUUfPi1jYQoqk9bv5/hQW3jnntCv+r3zTcc9GE9WODCielBBt/s6K1R8miFQPAdZMSRznN+hF5L42FtvL6R7YED7SgaQtGrpkI6fkOqGm2S1BS5ZHyMv92Nff5xmYAEGXB09G2qtq89orR41pIck4CV1G6ulyJzTjDkuqMHho/emj8adfxjIHA9fNy+7sJx6CnUKucIM1fNHS6KvGKf/mm1u1utdO/7jiSRAwev5kVJ0ZWT8dPT/37CLtVhO37Dq6pMM+wNQCF7z4cEHiZyIYg8LxBjrlRi5qAOLAfOrZHs7tgxPGyzGGBUHQiUX76ciPYSfnqcQhitPCLHxQ015BkGX+14YBZ70xziFDpfnF3axvmUmjgjY+Lmr10kdH+6IriMThY2tz01wbnyBQLDakv1QRFFyrZUvKmhaoScoK5e+3uykAwX0JvvrWzuSbgi219vM3tEAEA3K16qj303Pu7J6Xb7Yb6/zZUDLPhIVa+vqTqiVAgL4a2hciq93ehkBbHw6sf7ugYHe8Q4WBZw7oiX1jCfIv72RWhGowkHtUfrPtHAx1iHdBeiazrZ/QDPX3rqGm0VXp2+QW7oTZq5i+vmjg7yyKAsXrVvicLj+kErxGIdXAdZdEerr46vMetOkSoaUFn3gxAPrRG37mQi6kpSBZdBRl0nUYj/wCAyFHNRJGDSFnNRIgTqal1XgC8ldKowK6LwMg0On2I+sDr/7QgU2N7pZ9DiEPg4tH2Sn9EXQk8FhEApdF3OT7obt9Ikcjx5a2h4sYAwVjCwCEIBZSNfiRixAGUt4ZMiqwcREphd/sXzdEhCeawyPGhgPLF/nCkbGMwure0qKZtbzVIGCBoAACHIFGAdSVuYhKCsSRhDgElxvZKvyhjBJ019t9TYzAGJj3NAAgxC4o8H/o4GwYLpi+8V/BXPToDsKMelkl0ShWdchnxQy3qimJPnhgLAG2NHe8Wm3E8CDw+8xRANxASVVPraG4OBkMaMTTNIYr+kxIa63Amp2UYXeN8+nqQQEzC4UM7gUnHwEwE1rUnFXH3COWd7yKEIuu7HAJOOHxN5/noW6hrKRRxHet6ceeZzq+RiHuwn51ISxgMxhH0NAPgeF6WOBuO7JtBDolzHOr2I84VtkOuj3Zk2q1cigzIGbPsivz6rftXu40Ya/Rdm4DkMzCVWw99LkbU7w7fWxJqxry3OQTgdinHcxhRAiYAaEGzVYs+i5HGvnf+L5XvtCz5TXAds/jAjAXEYDDOPiyGXl/cVN1BBYQAQSIKF5S0tSqU70k3SLLZUtW2p0UHjGLA2FnhGz/vnPEAhuJfvXzzP+uM4TbOYugHKj11HdRyZrqxdXfnjxwQkYyqKINmd/LJyMo79ATyXMSCTQNJxDyeqSeyCHwyNTAYDMYpghByGuFHVxZz0ai6yNXmWfau++gNwBGsHHy0pkjlsEvAyYrvgXd2q4ccQxIkPMLOA4DTCP95+e5TCO47QOC7RuyJrAGYRLdK0i+unR1SVGQaneliTgSO53hRkmSLjhHQ7g6jndFAu/r8RE1AnjPz+TEYjDMHhJBD4rq+jD924AAAkCVOPu6V3QSecfRsdhcki0l43kSEN/FRPkLHAXGYIg4AOCwY/RdqhsFgMBjfSQ8KgItk+9INkaMAWD/KSqMT6Fzm1AkAgIAjgX2wzGMAigUeY44HkyV7ZDAYjAELj1D3fV4mEojia6ytbQkdtuFYQAGAMJxQ/BCXIz5vSGqYA54TIOL06QIA4CgBAAQWIHVwyAuIwWAwGP1CdAYQauri8WqGfO3u63eF9rXHUqVzFfdwaILODF8RIhneozleVD9oVsksb3h+oUWydNufaiLMUUIhKpMtAjMYjB7BCEX/DWZ6P4ZSDyYgSnnJlXgr2lOv7O65kO24LwHS0xOxwJvk2PEJUpOoxFYIGAxGDxCTlHo8lsri/m5I/7OnuRkgq/fkR6OBcqQ5XKLAdDCAFwDsVunHl80Pa4quGzqBrju6jgfiIssAFlHWAQzjiK1KvCjRQ+GgM5Ipz/PEJMBhjk0CGGcalNInlu+9aEo6HHJje+GDPRNHpZ1ydjNGV4YPS3/hmin93YoBQtb4YTm9J72HGQDPIQAImghDJFg/6TFs57HQTMRjJPAypQY9dijAE4/EyWAMNBBCcVb88uryK2ZkuERU1eB9ekvzZ9N78Yc6qBg3ati4UcP6uxUDAtpT+IrTSE87gTEHADZOC5vA0ZNbp426/xyDzn0AdZ4wpANQk5gQHf83qgAWACDHyNHYS2CKoH/Tivcx/R2Z/azh0nlDNj276/FV5cQkD7+157fnpuakHXu/O4NxSvR22MTunTUPBiEmNrTCkub2kJ9CWFE5WTqmCajzXUWNzhJkybTI0oTRozHG3YrpBi/LBACEDgQAyDQoB5gXOK39dN7TyVDb7lb1HjIcnMW0+P2KzqLwf1+SrPZr5gy98/2ibAm3q+TiWUP7u0UMxknTXQEIxAAAt8/7syL37jIeQEJhDQBRixjx9oFOh58oJvgP9fMBKmBFJ7JkqW19NhssDt3UIbLvNxUMTQVO7Jogor6xPgyyBZS2kPVQ5CWIJBPuAyil504anhTn6JvqBg6KGjNuZC8uKw0eLpicetHOug1Vvr9fnssy2zDORLorAB3zHEV2m/3+uJaWXPepCc1ISzElWVP1TnNDUoxFIjwnU9mkAJA8RP6qylJSowAoAFBnuDsT2OIe88T3Agihiy+cehGlLDY949TgOO6WhbmwunzWxIz+bguDcSr06AaqYYGfM3u2ohmI6CfrBcTxFlkSOYxEQSdwOB+Aig0OQEEIAOq+cltiKobmcS1hnGQheQB5iyE7ZTTmhIhBnhDCcX2hCVjvf+by12ff+/Db8v5uBQDA9M1f93cT4J0/3TQkO6W/W8E4wzhmKAgDYZHTNRAwMjuH590gZjShY+cxRpwAKjUIcJYei+iHwkOcOyPh1sUjIseSbLVaZIs9hqDvyGbOYHTyzd46ak9y2vvTiCfwAgDoRj+n5Pxi376wovRvGxhnIsf02MFUU3UDAZDjRvQhXWKFEsPkOAIcjwWeR9DljY6WjsNxoTuXi2Nj40CTLbECL8iyyGOBF3hREg9PGhiM42O32uwxiT1meuobKKUI9ZQ4qi9BHMC+/m0C4wyFN4wjRvfE1DkhpqO97aviJZZq4AAAIABJREFUGn8jAgCFnHT6xkTgFl82gcMCAQMAAMcAtAKAqiMOIOI1lGbXJV7kXVaZx5jjscCLokXgeUIoz3PMMsM4USjtbV/p76y/H2sHAITYVkrGKdJ9BkA4i6mrphJ4crV3V1O065fC3RM6qi1ISqJqS0/dtAdnjm5auHCoZHUSUweIpHuEfSUlIDnjZFrXGBUrCk5eslgsMsJI4HkAwBgBs8szGAxGn3BYAeRJvEYMbIZNApIz4dkf1rd7VQDQVB3geCkhuyJKAgDEuSZykqNrLKA1jUO/eNVLVAoAWPJBowEAvMMiiaIoChgjjuNM08QYs96fwWAw+gaePzLfC+YESnlRMIaPGK1oBgAQapLONa5uMSGO8g7CvBDxAopEmdYhah3N6dg3Na9L2cWQPyybBwMjAR/ah9s3bj8MxumCUhrQSJ+lA1R0QjC2sl8J4/QRnQEorahMjW7R4jmEsayDEon9T0yqoWOlAThiwRZxosQRAMJziOMtVAlFbT0enDNGuOPmqZJsFTHPSzwA2FxxWOC5qOWHxSdgnDYU1WzVKQBYuWgaP43Aae+jKaWYE5YtHrp9Z9XGFq23dUDIhMvn5fMHyt+tN5kOYJwuDpuATM9hiw3CSOBl4IEQ0yQ8R3kA4DlkmDQytKeHzphEjxwjZHBYiGzj6jG4jsPqtNmsWJI6fX5EMeoq2mde/4yzG0ppmKCrlk5bOhQpJq4prXnik3qfRcxPEps6wmHjNK/W6hZrck5C0p6DBoVe9l9GqoJzRyZyzQf1OgpwlptJdd0IhdX+bsVAQRBFq9xbvpGHFYAU9gOkKpqBBZ03ATieEooxxyMAAII4QkyZR91G/ZiXCTEBAGMZU5Mc6v0poTpGAId/crzEY9kqSDZZEkWB77Lwy4b/jNODatBzzxtxdUbwpt/vKbLiW85JzrLSp6X4N27KfvnxjW8E/n979x0eR3E3Dvw7M7t7u6crkk5dllUsW7bcOxgbg8E2PYGYEBIgBBJIAoHkJW/iwC+QOC+8CZBOCZDwBgiEFjAYUw3YFFeMLctFtiRLVm+ncmVv73Z35vfHyZIbYECyJN/38/jxc7d1TnM3353ZmVla4pIMk7dHOQCoDildBsF5cxTcVHSbAgB8mmRbdrcpetcK0WlwhUJ8rUdl1ObdpmCMZqqUBbtn3PXOXI+axnhTBNxUBDmxbe7TJCfr3Ve3BQDoAFkq80r9BXe8+ajvsF6JHJGSTKek0P6DtCVSebh2/Y4lP3924GttI1E3f+z2M69atnSQDi8JIUWtmGIZUc29e291c3dEU4/drVkD4zgfCRkXMaIQDcSiJqRwANCS3C6n5tCcysGe/tjnBw0oYnKRk+oBCDOP5BawZle75nC8ftVYn4N974ZTr21uXvh43fwZxc+cl6mb0LKj4qdrOrOL8/60KPnDytBZ07PBMla/tNMze8qSse6aLTt/saYzNTvtznPzKhsCU6ZmOm14Z/W2yKQpy8Y5Gsv33vJKq5Sa8vEPJm1+adO/zOSnzs1YU08WT012Ro0Xnilb1c5BUe66fuYEtyU5VMKttSs3/6mKx2NAvPno+mWli0bLls03vb79L3stZ37OU2d719STr0xKFoGeh5/bsz5MTEX71eVjZ4xW9zcETIl87h7ZI1MwrBcX55QWlwqe0I8VJ5QdqK82jEHs5isBgFPVrKgOsaQr3nUzZ9jWbQBgTsPWVeY0AMDWVQCAaBCgJ75bfDrPYzJ7DvYZ7aIAACkcdpuQC5KsOhhTFFmWJQCwbRubfdCAEi6ZvLO+et5Vk//x44kb9zQvX92RDrGlD+9o+OGEf96/4fEQnTlh9L3nZf7mL+t/H3JXLZ98U/3mvxt2Uk5G4b7mr/2y5vqfLPjudaf8/p73fK+kNC+fceXed/4dttX81NJg55W3rv/aVbNuuWr2k49vSXlWqr9t1s/ru39RI1KdEgBYssuTlzO5uuyMO3b9z42nX7oo57eP1P3PjXNGB6qm/7Hpjm+fsliqW7HTzHMdrHALkVY8yiyvyPpn4MdnTrzjnPGvHdjd4HHn5GSO21M2Z8Wuh39y+qUL0p95seW7506YTFsv+l393Lnjbp8obx3KP++JRiVJ8IQuIk7ARPWSxIikOJYWkxlJewfrJGdDbm6+wgSXFDg4eBJLfzTgCKWh9vafPbL9glnZV82dvGpsx8P/2l0rGNOEorFUk50xNaerpd5Odf84FfZ1s+KxvvgQ2hff7mBe6PBHakXrq90wwzD2B+ycVCVkUwBY814D80JzS6ChMfxGlXG6kMv9Vvz2cj9Tf/HtjnEuUr6r9aKZWiOoboW0VvQ0g9XUGVDGe5Ll5kPTWV9e/Uqq80clqRnMMqnTRTgAGKHup9d1jXORzY3hmZnuvdHu08a6dr1dziW27v36zadmJ95vJrEfHDv4D0eRmCS5vKlfP2e6aU8htmVbNgAwiQGA+ORHuxyK2JZgErGt+C7xFwDQdyjBJElWJVVlkkQT6eEr6MQTVCKhwHNvdj38dv2zt8/5yuym//nosBu0yZmZV5zudmiOaMi/vTIAkBJf3tfgnCQJSzqy5SG+ltvcKRP45OZ4mRIAkBxKLhjlDaGvLpm2blSXOydt83tl8d9UXIxD3uQxy8/J7G7odmiOFOnIg5BIBACEpnhkEgFQiJCOShJCX54kS5LgwqFqYFNhx8jBrv30+B8DKR/yPwA/+E2VHL0HURUJABiV43d9sdEfDRZCMjTWEY7FOACDjh6bhgwAFQBiEbszKnpidtDfMfeRSgBYlKw6GXjzBv6q2orGGkFdlKuuXbOn1nbEdjVtrwlJ/V97EuH8klNy2K7dsx6qv2B+8T8uyTn2p4nEKrrswvSkFsPv9XlyNNo64GlFiU2ilKiqQqhbtiwAh83N+GygcfG3x///oYeOjwSO9w2N9/mhlGCfHzR4DGBLzy6d5Ax16ZKsOQq6Gm7fbsyNtX7QXvztK6fM3d1067qq0ssm19wMdT2aKpNt66vWAqhS/3fy0Ov0OI8Ah8oAbACQpP5vuOxSATgAaCqDwyfilBwKhdDWiHXt7FxXp+SUyUWLzD88unO3FR8yJhxCbKnqmDst780bMtTMlHSp9+YulXvrAkLTZIdd4jBe29C4YvH4f6V325LiIYABYEDYAtjBcCyE4ED63toCAPrXHg8jakcZPbSL1wgiUUo55w5F5lL8y9fbz8e0LFmSDr493v8P7gWHHgoOdvjBmR7QoHJw888v7Lh4os+tQDAGj1Z21NkkjfFHny/fnytLsXByyLz7yY+/MSEJQPe3BNe22kly2+8fD7YpxMnoRx/ujmqCUOZx2s+/tId3ghoJ3f/U1tZWy6mwxuqGh3qUVqAep/3mq9uJHks3rEde2NZaF3VBy/3P9dRR4pBIY3XDX5vE/HFZ38xn991b9ks/t7XUXbfOWjBa2lrFFUoAQJXZB+/vsxvdOW7Fv7X2BZBaqCRX1f5xpdYtEVmiFRsrHiwThU6psaL27s628VmavyW4kydlGeD6XIUTOootIMMp+SPx8UyCMuakImQKRsAW4JIJAMTfHgdiRK3Lr14wetvmFTvNkRgDJEJ6r8rZ4Z9YlhkAEUIQAkLAcf4vy/0XUIcsH3l/FzQSEULSZXinws9tzil1UKJQAKAs1LNml6CMqjJ1WJEXt+kAQBl1MuC2uaXGUiTKAPSQ8UGQKJQwgL31HQCgEthSE2SEMAJ6yNgSjCoUGIGqdh0A2MG1KrG21AQVlZKDByEy3domXf6NglldLq/X4Qm2rN5puZL6fh3CyWBLTfDgEzViCgUhzC01lqIemhIAgKp2fU9ziDLKSCz4OS9O0REE5/vTcp+5tvD/Hln/kh9si99w3fyLvcEf/LWskZOQpP7uxjmhdZt+vsXoC7SHVg4o9FcXhBAcIGIpboUkaSwmrE8457DW2ygvjj2nrgDonWv9+P8/bP/e5fjYRXTiKBTg8JZGQogqk6Nfx98q5Biv+372fTeHP33tEZvJpn7bo9uvn6YBRKERHt3V0eBkyuE/giPS+SkpYTI2nA4MwlhafdsOvXjCGM8LrV0BQxufwoRDy3JAbZBn+7QUM7qyXlgmd6mSU2YA0BiIyRJlBFwyCZmQ4ZR00w6ZAoBkOCWJjuy5uHuba7CARmgAEUrzSPjFbaH4W1miOKx1WBBCkmI7D0Quync5N7ZHSzKyYl07I+7zJqivro9MGpUqWz11/uiF84qunJdlhILc6w5sq/jft7oiBdkPfrN4X0Mgw6N8+PKW3/T4nr16QjqE/SGRnMqahvpjfWH4rURoUBBCVJnG/2G7zfDhkklFXZeW4dVsefFEn9Xif6smUlDoa9b5+NEprfs7Gpzery3Iemf1ttP/sONbD+32TB+/pEDuAjnmkOXmuq/9adPfDojvLSzIaq+94Pdbl6+sDYzksQoYABBCiYSQiur2NsWzMIvOyU3a8HHzox+1KHmZl2mkIFfdXtaWnZuaYunb6iKTUyQtHGjqhgmFnq6YDab++vvtPk2iXJlamLRrd5vqkIJt4YquETxEAwMAOqkIIXS7tzPfiRfjoH/+0sAWX2Qv9AUJETZiTd0wbUJKnh2qarUcbT1NxD3t7MIpLLyt9hhfHdnQ4y8UjY3Anj6fBgMAOnkIIQKS9o2Z6blUnLAYIDj3R2xbQDBqf/c7p/3r0hwj+tnFed9eRtQ+Y+n0/9wwQRnMOb9QH0KpQw8/v0+fcepYlRhlQZJiB9dX6ReckqfvrVnNRXNjZ5fknD5ae7PLcI3KKnbDlppoitLfv1GTYmU14YmlGdSy88ZnzkkdwTN0YABAJxEh2rwpl55ZmC/MvgAghDBMHozafVfZhsljHIJROxi1bQFCiEPXxjjEOMR3ifEj18Z3jy+xBXDbcueP+vPlBVqUc0bXv7337+91UJnFtznipP1n5Hyv5rv/yqJcKoKUbf2o9h+v74sqvWePbxbj/emxRX960JfnkMmafR3M5bIDejfhMiVNnYFkl6OmMZSlMh4MPLi247yLptbfvvAfV+RvfmfnG34rBUyF9w4DdCj03Q+rW9ILXv75Kb9a6Krxj+Cpuo9rth+ERpBDH0YthOiwyLWzM1K8SbSt/c6Pg2kOevbE9KaGnhnTRifJ9PX3djdlFt5YoukHmv5eFdUomV3oDoTtmePSkmRatqlmbVLKzZOSza7gk2UdHIgtYNGcwrEeYnYFn9rhd6anXzQtrSSPXrPUri5rqgFwumyrFa5aWJAkUwDQDzQ9Vh2jlj1p9rjTUmyzK/hOeUePU/vxrIxJY5K/erq54EDH6gCoVAMwDZNPKsw4bYwLAPbsanqrJepiZNF43576njOn58TTsz5M8IlgXxKhtLijcerP6t2M5miSymD9uoq8VbuLvb3PbNi5tfLs9b3B1qMyrySJpuazVjTGH9IAQFio54Y/va/bgjHqAMEllj5Yj2wZXFgDQCezgA3fuXjWBaWusMlPPX/izflQo1vzF5fe+f0ZSiis5uf84cZ5v5qXHDb5eRdN/dYoqVW3Fpwz9ffXTk6TLTU/5+br5vx+YWbY5AsWFF9TSFsNftY50xemxcImnzOn4ObxUuCQ1p4eSZm8YNzF03xRg3WrhtkVLJk+evGMNH/EmjR73DeLYmGTZ08r/tHZ6UbEBoCoKQAgYtgl00dftjDTCJC8iUXLv5KvQcz0eK5ZNnGhCzotmHtK8T3fmRDTI2p+zg8vKSqSTlzr1kmMUFriknK03gJQlelMn9Q3lFeVaZ5Liv+LLySU5rmkQ0d7pKo0zyXlaNSnjdTSHzAAoJOY4Dw7I/WCUfbdT1ddvWrfNS93nnf+2MkSBYCNr358x/rWC5+r1pyOta/t/sWq/S+3yxfNyyyLWgBQtr7ittV1Fz5XrchSxQd7frFq/zNt1qkzsoM2f2vVR8uerr961b7Haqxpp+aX1XW+tTcQCwWferthZX3vlECaFHvltebb9/I0yXjunSafJu3btvdb/6q5etW+h96tLxg/yh2L3VARi9rmmvfrH67pra90Ese1i/PK3y77yeq63/374yf3w3fOyVSIkN3K9k0H7vmg+bZHtwfTMiZ7SRQbgoaBk2PsFDYBoZOWEJwmac70lJ9eN+tGi0ruJCnSrkoAACLJmaWagsc6bBEUtEiVuqyo3qP37Zsuk1lcbzF5d4wWOEVPpwVeAICoM+mp700d64xZmtvjDx16Oo33XwcGKbvrG6X6tl1PN9upKm0Iw503LJyn6YIpThIxLBhv9kYLN+29nreTpHQW29gZy9MkynldwPLkutOtFgAI6naWysDBAfpnpkPoy8MAgE5ahFAACLf5f/Xwht26Q6GwLyQKnF/8wm1vVP2/78927Nhx5mv+JWdPv62Iu471+NQwh1Nnj1msdS590u/LZBEON33v9Jk9leff3zRhwui/XOhTj/WzY2ErSh05qUq40XJzkZpEzSiPOLCOjgYRfr3QScivsxrdatB5Y1Nnl+a9bEbWBt2M5uc/fUH68eyuqMdu040/oaW7Pbw3ql441es7OI+04nJnKKJN9PYGMWLasgU5W7Y0bpbNprAVNViuh4pg7OOWyOL5BSkHG5pjslzoYftCvTUAORLZ0mpNLM1whUWtJ+3Syd5dH9c32s4v9YdAnyA+XuRziXcPO3phvCOZYY7IhjmsAaCTCCHucKihw77lv+fdAiBbPQ//Z/8lD5Y/v6yg/pQJrKvtxkf9msK6gnZMtwEgGazauggASFIs0BjsYmKsQ+psCtDOGFACAP4W3YjaCgUSibTT2GwSuus/Vb++eGbjQuPt8rqPksw0Rg7sqV1dMmX5D+ac/3bZx/5IQ9BkGY50FnOeMqH+lAmq3nH9g5U3/nPX6utLmv5YsnPn7vWhDFNlec0Nf1vv/tFVs+dt2/dke6gtKZqWxh9+fL12yZR/3pYng/XGyo0PVFoZCtTV9ZgRUyaEcsvfokcN+yQbizQgBOfNh/TGTHN82uRLQgjb5b0kk7+zOxBTj+siOMahdHSaq6N9s076jhzjsGi8r6qyo8epLsh1fVjZeawpNYc1DADo5EEIyYoGr/n7dtvuvRzLdEolJPqDv3fEe+xlqtRJ4N5H3mcS80rEYwRueWy728HcDrb+3T1vUFbikh56fhtn1CvTzP61sH5dxRtAczQaqK37+l11AJAsE4OydI0BwEPPb/udKTwqc5R99AJlmZL4+l0f9qUqJ0kqMTov/90G2+YelVmmP1llqoOtf3fPS28K1SG5oeu7m4RPk9OEiB8KAHyalC4DCOuh57cxiTkZCG7G04Pzyh1BcJ4xvujPp/t635qRx57ZdWhJfdQOAnIzvrVI/njHzmZxXDNshyPsnPPHezYH120xlN7n2pL2oPzVZZPfeGDt9ozs/7o4s+rujY2CjKx5nzAAoJNNjkYPb9skPo35DnnvdvR2pCeE9D3bXXUw9VPWyjS+ljIpz3XwOIcc0B2/GSDFD0LyXEf8skiORnpTJfWfMa/3FgKNtzkRQvoP9ampRYeKmsKZ6vZJ+q8f3tlIJQCIWEQSVo/FqM2DnCTJxMOg0+BRIGkOKgkOAFEhAKApbDkZSVZ7n4cSjNpBTgAgU+2dws+I2p2cNBMFAMIRGwCEEPFDtcgyCUUAoGp3zcKy6mSVUcF7bOKweScnskRTJWAEhBChGI8fFj6rdnKCYQBACI1sCuMAYEVjbTHSAlwmRAVr3PSS8+T2jpyCOZny/m2Vt+4Ud15ckO0IP/tS9cYeEi/4ihcU3TozLXzgwK1vtAkgHRa5cknpOWNd0bbWP66qr7NJ1LQvXVJ6zlhXRWVz3+nq7aR7Lh9T5LW3bGuNUgcAZGek3nBa+kMvVnSNyv5lbuQDR9ZVpe7WA013vNpIJRKl8vXLSmenWmFLAoCNb+96ockeJjFgeKQCIYS+qJhNAUBxuc+YlfmNaWnnjWFhi7jTXYvOn+yoqv5/bzRPWjLjlatz3399x/pw6g8vKYoHDF9G9sK02C/+vbMze8yfF6fuC9uXnD/9ktzYb54sKxOpyy/LDUbtSQunXVZk/eWpslpwn56pAECLYd95zbSscPOPnm9wTysZ74gCQFKad0pxsmoI4XEvOn/y/GjLrS/sd08cu2KOti9sX3fV3IlG063PV4eSvT3764dP6Q8YABBCJwcqKyV5KUW5vkJNjXfX6apveXxd1+6a7pbOWPm6qmc67E37OpJ83mRgANAT6H7upYa2Tv13G/2ekrzZKl1cqL21pvqxhtA317QmZ2bOFXDhVG/l9oYP/LF/vFzzsd8EAE31jEu2127piHR2nfe37R1HDcvuaPU/va6rsT7wZmM4I1WrMNLHp7DtZW0f1IU3tumjMuWO4TSQD5uA0AhHCIERdd9t4OFlHACA0eV/6MXKGlNIMk06+CdhHgkAdIkFDDuNEQCI2r3dPy0jEuAgywQAqCyleRSnT1l66ex6kAAgYhg8zZGj0daInSQTzu2QJRhANMPrVgQAOGQ2y7CCsWN/9yQpZvdwp9fJyP6KrtLTl+TfnKwvSnVsf6M9SR5GX1cMAGhEive38/d0G9ERPBfjgDFGWO/DgRVv0onTFCYR4MfRx58yGQDClvACWEZka7uI6fyN57Z8e09srEOqjFrTJc95Ee7RWIthhKjDJZEIgKOtJxgbDQDBqP2RLMWDwaewtdRiVTTtt6YW+ta/teORnWZO0jAqdYdRUhA6foSQxbML2zqDQ52QYeGM/BJNVYc6FUOm7x7AvHGekOQAgKrKjs/cy5uS+v0rCt7ZrS85M2PHRztDIvra7uDlS0vvczUEvL6v5Nk3PV6/qqznjlPH3dxTkzqxqDRV3goQMQJlPdL55+S0bQjetbDUzXsDQN/gDMfhcwSxSGeVQc6cMKpH55OKJ87NrbhjrR/YcCl4h0s6EPq8bv7uV4Y6CcOFEOLkmJvsi3HIxN/o357umjwxJ74kVNdRua99oxEAgAw5tn1nW7jV0hQW7ujZvCsWkCgJBP+zamctc51W4qvYsPfRrd2jktgLq7fZc/JPm5gjGcGH1rQzD9n7ftnfo4VnTcutrmpccSBc2GLladJf/7X1pvlZF83MeePVbRvysnVDhDt61m2NGSohgeAH5eFuiThkWlHbtYH1nDKxeKrX+ttfPvyln8Oo/NrvT11a/t5Lfhgmc3pjAEBoxEvk0h8ACKWB2rrl+/r/CMkqowca7q4hXpWqwlq5Zg9lzMkg7O+8503udjDa3PJgAzhE+6r1QpKpV6YAkC7DO5trVq0X8SMoFIDS+BJNYZS372bUyUBYkfverI5xcDsYb66RJUojnfe8yZ0Ko80tdzeAV6UKQOueqr9YBPJTnDaUTki5TacTp2TSYHtNk+0YNuM5MAAghEY8yiSfdvgiQr0HbwWrcu+r+FC7+AuvBADkiGmfVJl+4hJ25EEAAGh8Yd+S+GF7k+Rm4Kyv/u+X+U9mjxoFQHjXin/U1alMGTbxGgMAQggNFiY7ggcafryv91ZBb8Vi2MAAgBBCg4hQemTtZNgYTsEIIYTQCYQ1AITQsEMJAaAk0S9QB/3zYwBACA0v3Ob72toj1tahTsjQqw8GAUYP3vExACCEhpeZU8a9+rPEHdd2hNxs32dv9EVhAEAIDS+F+VmF+VlDnYphYbCH+CV6GxtCCA1bgz3EDwMAQmhwSQzLmWEKm4AQQoOpQN62s9qX4v7sLdEXJUm0pr71i+w44ElB6Iuhw2Z8/EmMnPC/8rj5eUvueeUEn/RLynO7RcbEhuqNQ52Qz+fW04s+7y4YANBwUV3XtntvrWUfx1Tu6IuK9MSgQP7s7QaILEt7n/jRCTvdQNm6s/Hel/f9+8+3D3VCBh0GADQsZKd5rv/nh8ufLRvqhJzsZAHjsIflZzDMRHnADgYANCx871vnXHfFuUOdCoQSC96dR8NCgs9oj9CQwACAEEIJCgMAQgglKAwACCGUoDAAIIRQgsIAgBBCCQoDAEIIJSgMAAghlKAwACCEUILCAIAQQgkKAwBCCCUoDAAIIZSgMAAghFCCwgCAEEIJCgMAQgglKAwACCGUoDAAIIRQgsIAgBBCCQoDAEIIJSgMAAghlKAwACCEUILCAIAQQgkKAwBCCCUoDAAIIZSgMAAghFCCwgCAEEIJCgMAQgglKAwACCGUoDAAIIRQgsIAgBBCCQoDAEIIJSgMAAghlKAwACCEUILCAIAQQgkKAwBCCCUoDAAIIZSgMAAghFCCwgCAEEIJCgMAQgglKAwACCGUoDAAIIRQgsIAgBBCCQoDAEIIJSgMAAghlKAwACCEUC/dMI94a9v2UCXmBMAAgBBCAACmaT2wcvfminZVJgAghHhg5e49tV1Dna5BhAEAIYQAAGRZGpPtfmjVnjp/1Cmz9dsbV+/uGJXpHup0DSIihBjqNCCE0LDQHYre8uCmzijntk0Zu2rB6IsXFg11ogYR1gAQQqhXsstxzdlFdYFYKMYLUtWlc/OGOkWDCwMAQgj1mzct94KJKTEOly8a41TloU7O4JKGOgEIfW5CiEBQ55wPdUKGBUqp15M01KkYGKZphcKRoU2DxMiSKdmBsF2S4+zqDg5tYjxuJ2Ns8I6P9wDQyNPW0ZV59V8hYAx1QoYBwsAti1duH+p0DIzX3t583m0vgDLULRMedW6ysqkhCHzoikdKQND9j99QmJ81eCfBGgAaeWybQyh64RkLgZChTstQIoTqoa41H2wd6oQMmGDYKC7OKS0uFWLoq3cXjhnKsxNCX/5grW1bg3oWDABopCJMIpRCAldhCaGydLI1UjNKqSSJRG/fI4QSGPzLm6GuaiH0ZSRw6Q8AAhL645/UTlDOYgBACKEEhQEAIYQSFAYAhAaMEML+hLr7p6xCw9/JmrMYABDqZ5i8xzry9xyM2kcvPJotwOlSXTI5ektbQJpTPuYqdGLEOPjtr+LaAAARiUlEQVQjduzwW8vx7I591v1mIYRTphlO6ejs+5RVIwIGAIQAAGwBBpGuWFjw87Nyc2l/cd/D1O+cWfizhe7PLL4DOrv2itk/max0HtVzryWg3HL9vO9NdYdGaDkxwtkCSken3f7VCXOc/cW9bsOiOYU/Pyv30IXHFI3xWYum/epr2a3GEduRqCXmXjzjfy/OM2MjctZo7AaKEAAABdGtaDPmFJR67Ghbz5/KQ16JcNsqHpf19bOL5O6Ol9aXhYAIIUIxDgCcURcjjAAAGCY3udAtBQDCERsAhBBRS5hccEa9UkIPVhgO9Jg9flrB4hmecVr3xmeawcGEEIrHe8HC/FKPHT3QvK6KK5QEozYcnrPx7O42BQDYVm8RH89uzqhGoXekmBEdqo/2JWEAQKifg0ff3qGfOj3j0V1BISCouH5wSs6WbQ0lORQATItLycnL52cBQFez/8nt7TZQ0+KL5hSeNsrReMDfd5wOi/xgYX6mW2UdLTes63SBMmQfCQHEx0ps3dmYV1xwYWbbS36gFp83NSvU1FXNnfFt6iznf52ZlulWbSO08r3GOptIwuKe1OXzs2wjVBvV45sZJp9UmLF0YqpthN7c0ra1fRDnaTgBsAkIocP49zdBTvp0J4lwkpuTOk0LlwcIZTIA1Lp8910+1sODZTX+8aeW/Ow0X6vB8yYWXTU3tfGAH/Jz52QoANAZtb5z8awlBaysxp9/2oQHZqktlj7UHyuhxZ/ypQb9O4LKvMle27IjlnJmcUpna2/M7oGke5aNmT/aKqvxBzxpKy4vSuO8zZly1xWTnIH2WnBfMi/bGYOgzeW87OVfye9q9sspvpsuytg/Yq/94zAAIHSYQFv3a43SV2Yn+yPWGVNzOvc3VnVZMrcA4KeLxzg7m097uua18rZb322bOKdgmi3OPTW3btPuO9a33vJMxe5OEwCEL/3MIvbEi1XLNzSOe6Zt1hlj59g8YGLr/5DpGy39+obmzJIcnyDu6YXTnIGH3m9zMEdIt0sLk6fnwG+faXytvO3BV/e1uLOXFqvnzi/Kaq9d+Erzo6/veWJrDwDsjao/XDKm/O2yb77buOSlA85Roy7TRnb7HjYBIXQYjZv/3tp2yaKcma91TsrXqlb7weMFAN0UualKY014rkd1MV7VEY7JqTlpdHwKa43YWSrjUTtkiXiLQLo36dvXzPkmSLbigEi7zzmyGwpGur7n/H7U6OfuKQuzqDnV66+sflk4/woAAFkpmh6NAoBTYSGAnoid7VMjmhzh1gynkkoFAOgKCE3J1SBvyfT6sygAZDgln3NE3vvtgwEAoSOVbajYtfjM714zbazedMd2Pvl0AACnTBo7Y6U+R2fU8mlQmJakmGaokzdFOAMIm0JY/aV8e0/4wQc3rw4IJ0BZ1JoueTwywWagoRKvAUiaGjxQ+3xD+OsXjlc8cN+qrrFKanyDHsN2Opwuwm3BAMCrsRrdboyYmlcK2txN+y/zdYm9+vQH394Tm+qQyqLWqU75a0PwgQYMNgEhdKRsJ915IDJnfPr2DQc6pP5LvE37OlILC76bTvxcuuGUjJ4Dje9yUVYTnnZq/ngZLjy34PRMBQCIv73dVr5zVqabUa24oOwbo4buoyCAvnsANJYsk+ffb80pzOHNzR+He3PW5WTlB/wtSsr54xytunXm3NGjWPD9vYEt9WHH6LzvphNnfs6VM73OGIyKBN6oCJx3/tgfp8uyL2XztWOd0ZFdhGINAKFemmXW1uktQZEqkXfWV08g6c/sNdMdtMewK1tCAFBfXv2DSOzeb8/6FkB12Z7r13bkJEmvrvrI+7W5d984s3xPzW/XwBiD5mnSpfds+uc3S579Ub5T77zygXqnLO2s7jb9hjz481frhgkAJ/2jrD4Xh8w6G9urqSFTYlU3P7st1SzviHGabUX21nQ1dIvkUM/kP28v+2bpf+bLlhFcfvf2Wo3R8r0/hTErrpl3aajt7id2Lh1jFXvZmlc+zjyn9KfXzfovy3j1lX26gwcag5UiAnRE3gzAB8Kgkae51Z9z2R8uOnMRGdDyNN7p2yEzhYIQotPgySpjBATnnVERf81tqzECAOBkJL4EAIJRu9sUHpU5bM4l5mS9u+u2YIxmqpQRCEZtJrEBvhdASCzc89rajWLjb+MLapt6/rxyz+RRSddcNHlAz3SCPPvye7c/v2PCuEkDPh20YfIoIfExGX15Ec8mt6M/xw/NMoDe7GaMpjlohIv47kbUbjcFYzRZoU4GhsmDQNMHOuASSleuW1P50PeLiwaxBok1AIR6EULcDtb32qcdfE2pT+vdhjIpz3Xkjm4HczsAAEA6bHff4dsMUrLjmv3hv72y+5VdXT9ZUnTJ/PxBPdfgkaTBalFRZaoefH3sXD4qy+Dw7FYOXuOrDpbnOPaRRxwMAAiNbHmFmS+u2//shwcaglaeWw4Hwk+/WTHUifqCNpV1u9SRW5yOPBgAEBrZHIxVNwdbDK5QKPRpstQ7aHmo0/W5yYN2+Y8+CQYAhEa2qqqmn35j6jnVHT99andLd2TZqaNOmz5S+x15SNe6ytqhTkUCwZCL0Gcworb+hYb7CM79kRM0UGjSmLTX/t+Ca84a++uV+x59ufzEnHTA8aHoksJtK55NRtTusQ5LgRAiGLVtcUKz8kTCAIASiD9i7w1Z9SGrPmT5I/bxzM2s23DNsuk3TEoyzONtVIlxiBcZ7vxR919ZpBw5h/BgIYQsnjvqsZvmnnta0Yk54zAXjPZnd7sJx8zuGIdx00vuvWhUpFt8dUnpjye7+jJaCGG7vCuWTShhdsb4oj9fXnDCsvKEwSYglCh0G269fsEZaVZ3lABAe2vLA/+pbeS9E/9+kqjBUnM8vm7J5OJ47k4aRDp7vLeqsqPOppqmOFUFAGwBn36WAZTtSzpBZxre/BH71usXLM2223piNMVbubbsvi3dIVMckRHc5h4XS9ZY0ODF49OzFb+5PdCb0UJ4HCyrMMWl0B4Aj0s7xmlGOAwAKFGYQsgardiyd/bK1qkOyclIEoV2U+QkSfEO/pURKHRKkrC6YkS3BQBkOg/7gdSHLJ8mORkIzpujkOagMumfL151SGmMv8Wcj1805h/3Nq/TKS+vHr/BPDdVpSCC0d7N4p3KFQpG1O7kxAHiiL7naEAoFACgbH3F7JWtMCo/cOOE+XvWv9Bqd5si0ykpFLhttcRopkrXvbtnRcg8zZ0EADHDBADD5O1RDgDZ0d5mn4qy3qwkttUYgWSZdJtCByhOkhjp314HcALEjz8iYABAiYgxqlBRsnDac9OsW+7dWecgobyCjy5Nu+eRbaFxJVedmpku2S478Pt/7l4d7O0nzp1JT/xozraVGx/dG8kuzvvbeekPPba9LCZfv6x00WjZUJLaPyr7+dqeN66bkq7J37vh1Gubm2/bqXScm3Ld77Y2MnrzsumLCx2GTUWg5w9P7toUhm9fOncBbWlLzp2cJvXsr1z+SvvR16foC4s/5EtRZQAo0WhIWADgzM/59xX5T9y/4dVumD675G9zlOV/2zXrvBnPjw6d/7/7+nYsmlz0r8U+E6T9dV1JsRgAzJ077vWF7qt+uXnURTP/XhRaG3QvGK257MAN9+1qs8Wk2eN+cEaa0wafL6mjqfnF5/es7oQREQNGQhoRGiBmhI+bVrj9pjnP/mj2NSXafZsORFzuOcVKpwXLFmR21DdtaIEMZj3+yPu5K7Z+oKdcfVrK1kP6UypOCgCcUQDQHSoAaMnuzl37s1Z8uPSxyuJZJV/xwdKHd7R06o/cv2HmI3VelTmYbAesWQsmfy0lfPMfNuWu2PqWlXrjmb54DSMnx/3EA+t9fyxnheMvSLWjJ1sL81BSKEQIKZpctP2mOW98e2ykqva+Bssdi4Hs/PQdJVfS8nMyP1z9ce6KrXuExy0feesgLS+j/f0dOfeU72Jp35mk7LK1axbl7nx5c+6Kre+1xvZ+UPlYMx8RpT9gAEAJRdZobUXDnc+U/+bJslcazHl61wft8syxrmahLkp1vLK2TbjJmo8OZBVnPLjQGyHE6f3EwsIZNQCgtbnjvW75/oW5N+XEQjHiUNlYhTFNKBob5yIAYAkIKfLlM5O3ljdUmHBBsvHc1rb00oIzKQGAuur2Ohnmh8IVOh+bq4UxAAycGAdNiP3l++98pvz7D2/Xigt+O9sbVD770Wy5OanOqPF+nbXEE1v57r4W4jhig9Z2/7oWvogFN7bphbmuxggHgJBuA4AZ4UkaG0EDGrAJCCWWmGFWB+1MVTACSRLZWdk+Y3TStCI1Te9c18KjtnzDNybO8Bo17ZCpCggeuXvEsAGAhyPxGkB2cd6vL85rqenSY+D8hNlgDFkCgHDEliUKwLsDBsBRs0mggdZ3DV4dtB3Brpcr+EUTvH9f39+Vs8f4xG6djH2OEpxCKGCKr142Y0cnTyLd95fpXjZiHv8wYiIVQgPlYz3Wbdj+iE0ZfWdvm3AkXzk7s76lx09Ea6rnjBJ105sV5z61Y3Nj7NC9eqJU98fSVb6uRx4/Pj1LREMxfsbUHHdD/fw/br3zozb94GNHYraqOti+UG/TQVo48mFlaGJphhG1GiNw8ZT0cGNbeQx/eoMrdrA69bEeq9VFQa7aHoy1d+nBcER1sHdDjrnj0tzHugDu7gwFJWV8hrIrwOdMzcoSn/HQR5GWkc5iq9fVb97V/ObW1pAYSTmLNQCUWMZNK9w+Oh8Awm3tz73dsKUuuA1SLhxrvvCCn0ksszOwtU1adPH0TfMNOV2BdgAAl0QAIMkMrizvuOXCqTtO47opgiZxKXTTvo7zF+eV35Gmm0JlHAB8oa7XK/Wrr5x2RkXDnw7YSQphHmnV1prFy0qfvyE5bEkujT7xZL3uANmtSCN4GrHhLl4DKBg/avtNOdzlygo2PvB+OwuRlRWx7185bWEn181oVAgAcDEqOXqbhhRV7uruWFkRu/KSKaecZcczGgBMZ39joHpwBuUUyQEAvC7QbiuTJngbuyU1M+WcYvbL51u6yMjo04XTQaOR54tOB020JCVL66+et3RHdJNTJheqUBOxhRBCCEJpoU+Lr3XKrDlsed0OJ7c7dNMUpCTDCQA1HbqW5DD0WNQW2UmSJ0kheqyZMIjGdJNHqTzBpxA9tj9i+1TWoZsgBJWUglQFAALhWHPYkolwutT4YTkQl8sB0djn7gV01HTQI90ATgcthHC61L7s9reEWgjVqIjnDgDsbw+nOeUO3aRMTnVAm265XL0ZHeFkYqYTAGr9EdWpGHoMCEl10L6N/RErfnyvbjSMHfvvRfLVK8peYrxkbOG71+Q9cf+Gt8PsS94HxumgERpYQg9GqkL9v0tGgBDCbbMy3DscjBAiOK9q7316Y8i0FAp6yAgBYYQoBPpXhaKMgEKhTbfadAsAKJiEEEKIKqyq9vgS0aYLRggQwm0zvhB6L05J32EZgB4yOHzGkDT0uRBC9JBRFTr4N2XUSQDg0NyBNt1ihHDbbNMJI/0Z7WRHZrTgvE3njBDBrTa995sT377jQGuNmHzvf0/7eYTlpTvLtuzd1EWUEVK1wwCAEgih9Ojbc4QQ9slvj1hydBl9yBJy1ML+HT/9sEevRV/eJ/1Vj8idvs0+JaOPuSq+MDPSc8cjm6fkaQDgCEffazZkxzG+ZsMTBgCEEPriCKXcNrfU9FbvVBlvAiOEUMIghCgjs/luJAUrhI40+M9YH84S+sOjgYA1ADRSCdsCwYRI3OGzhJyEF3BCCG5ZiZytcUSciPsIGADQyGTYq957b6gTMTy0nlRl5b6yxn31LUOdimGAC+ge9JzFcQBo5LFtu6s79LnG65/EbJun+bxDnYqBoRumHtYxZ+Nsm3s9SbI8iJfpGAAQQihBYaRFCKEEhQEAIYQSFAYAhBBKUBgAEEIoQWEAQAihBIUBACGEEhQGAIQQSlAYABBCKEFhAEAIoQSFAQAhhBIUBgCEEEpQ/x/wIy7I1kO32AAAAABJRU5ErkJggg==)"
      ],
      "metadata": {
        "id": "VV6w3fZCKMi2"
      }
    },
    {
      "cell_type": "markdown",
      "source": [
        "# Exercici 3"
      ],
      "metadata": {
        "id": "6MYn4D-ZDKA0"
      }
    },
    {
      "cell_type": "markdown",
      "source": [
        "## Realitza sentiment analysis al teu conjunt de dades."
      ],
      "metadata": {
        "id": "jP2XfwzcDiA-"
      }
    },
    {
      "cell_type": "code",
      "source": [
        "# Activo Google Drive\n",
        "\n",
        "from google.colab import drive\n",
        "drive.mount('/content/drive')"
      ],
      "metadata": {
        "colab": {
          "base_uri": "https://localhost:8080/"
        },
        "id": "VhN_Hf6KMZXz",
        "outputId": "9fe4a5e9-6bba-49fb-ec7e-a62bc9fb51da"
      },
      "execution_count": 74,
      "outputs": [
        {
          "output_type": "stream",
          "name": "stdout",
          "text": [
            "Drive already mounted at /content/drive; to attempt to forcibly remount, call drive.mount(\"/content/drive\", force_remount=True).\n"
          ]
        }
      ]
    },
    {
      "cell_type": "code",
      "source": [
        "# Imporamos pandas\n",
        "import pandas as pd\n",
        "\n",
        "fichero=pd.read_csv('/content/drive/MyDrive/01_COLAB/train.tsv', sep='\\t')"
      ],
      "metadata": {
        "id": "vtyKV8UxKRGP"
      },
      "execution_count": 75,
      "outputs": []
    },
    {
      "cell_type": "code",
      "source": [
        "fichero.head()"
      ],
      "metadata": {
        "id": "4NwdqhD5NkIE",
        "outputId": "803b6564-fc66-48c2-adde-010f231df8d4",
        "colab": {
          "base_uri": "https://localhost:8080/",
          "height": 206
        }
      },
      "execution_count": 76,
      "outputs": [
        {
          "output_type": "execute_result",
          "data": {
            "text/plain": [
              "   PhraseId  SentenceId                                             Phrase  \\\n",
              "0         1           1  A series of escapades demonstrating the adage ...   \n",
              "1         2           1  A series of escapades demonstrating the adage ...   \n",
              "2         3           1                                           A series   \n",
              "3         4           1                                                  A   \n",
              "4         5           1                                             series   \n",
              "\n",
              "   Sentiment  \n",
              "0          1  \n",
              "1          2  \n",
              "2          2  \n",
              "3          2  \n",
              "4          2  "
            ],
            "text/html": [
              "\n",
              "  <div id=\"df-818ff6d2-2000-4962-871b-7216193707ad\">\n",
              "    <div class=\"colab-df-container\">\n",
              "      <div>\n",
              "<style scoped>\n",
              "    .dataframe tbody tr th:only-of-type {\n",
              "        vertical-align: middle;\n",
              "    }\n",
              "\n",
              "    .dataframe tbody tr th {\n",
              "        vertical-align: top;\n",
              "    }\n",
              "\n",
              "    .dataframe thead th {\n",
              "        text-align: right;\n",
              "    }\n",
              "</style>\n",
              "<table border=\"1\" class=\"dataframe\">\n",
              "  <thead>\n",
              "    <tr style=\"text-align: right;\">\n",
              "      <th></th>\n",
              "      <th>PhraseId</th>\n",
              "      <th>SentenceId</th>\n",
              "      <th>Phrase</th>\n",
              "      <th>Sentiment</th>\n",
              "    </tr>\n",
              "  </thead>\n",
              "  <tbody>\n",
              "    <tr>\n",
              "      <th>0</th>\n",
              "      <td>1</td>\n",
              "      <td>1</td>\n",
              "      <td>A series of escapades demonstrating the adage ...</td>\n",
              "      <td>1</td>\n",
              "    </tr>\n",
              "    <tr>\n",
              "      <th>1</th>\n",
              "      <td>2</td>\n",
              "      <td>1</td>\n",
              "      <td>A series of escapades demonstrating the adage ...</td>\n",
              "      <td>2</td>\n",
              "    </tr>\n",
              "    <tr>\n",
              "      <th>2</th>\n",
              "      <td>3</td>\n",
              "      <td>1</td>\n",
              "      <td>A series</td>\n",
              "      <td>2</td>\n",
              "    </tr>\n",
              "    <tr>\n",
              "      <th>3</th>\n",
              "      <td>4</td>\n",
              "      <td>1</td>\n",
              "      <td>A</td>\n",
              "      <td>2</td>\n",
              "    </tr>\n",
              "    <tr>\n",
              "      <th>4</th>\n",
              "      <td>5</td>\n",
              "      <td>1</td>\n",
              "      <td>series</td>\n",
              "      <td>2</td>\n",
              "    </tr>\n",
              "  </tbody>\n",
              "</table>\n",
              "</div>\n",
              "      <button class=\"colab-df-convert\" onclick=\"convertToInteractive('df-818ff6d2-2000-4962-871b-7216193707ad')\"\n",
              "              title=\"Convert this dataframe to an interactive table.\"\n",
              "              style=\"display:none;\">\n",
              "        \n",
              "  <svg xmlns=\"http://www.w3.org/2000/svg\" height=\"24px\"viewBox=\"0 0 24 24\"\n",
              "       width=\"24px\">\n",
              "    <path d=\"M0 0h24v24H0V0z\" fill=\"none\"/>\n",
              "    <path d=\"M18.56 5.44l.94 2.06.94-2.06 2.06-.94-2.06-.94-.94-2.06-.94 2.06-2.06.94zm-11 1L8.5 8.5l.94-2.06 2.06-.94-2.06-.94L8.5 2.5l-.94 2.06-2.06.94zm10 10l.94 2.06.94-2.06 2.06-.94-2.06-.94-.94-2.06-.94 2.06-2.06.94z\"/><path d=\"M17.41 7.96l-1.37-1.37c-.4-.4-.92-.59-1.43-.59-.52 0-1.04.2-1.43.59L10.3 9.45l-7.72 7.72c-.78.78-.78 2.05 0 2.83L4 21.41c.39.39.9.59 1.41.59.51 0 1.02-.2 1.41-.59l7.78-7.78 2.81-2.81c.8-.78.8-2.07 0-2.86zM5.41 20L4 18.59l7.72-7.72 1.47 1.35L5.41 20z\"/>\n",
              "  </svg>\n",
              "      </button>\n",
              "      \n",
              "  <style>\n",
              "    .colab-df-container {\n",
              "      display:flex;\n",
              "      flex-wrap:wrap;\n",
              "      gap: 12px;\n",
              "    }\n",
              "\n",
              "    .colab-df-convert {\n",
              "      background-color: #E8F0FE;\n",
              "      border: none;\n",
              "      border-radius: 50%;\n",
              "      cursor: pointer;\n",
              "      display: none;\n",
              "      fill: #1967D2;\n",
              "      height: 32px;\n",
              "      padding: 0 0 0 0;\n",
              "      width: 32px;\n",
              "    }\n",
              "\n",
              "    .colab-df-convert:hover {\n",
              "      background-color: #E2EBFA;\n",
              "      box-shadow: 0px 1px 2px rgba(60, 64, 67, 0.3), 0px 1px 3px 1px rgba(60, 64, 67, 0.15);\n",
              "      fill: #174EA6;\n",
              "    }\n",
              "\n",
              "    [theme=dark] .colab-df-convert {\n",
              "      background-color: #3B4455;\n",
              "      fill: #D2E3FC;\n",
              "    }\n",
              "\n",
              "    [theme=dark] .colab-df-convert:hover {\n",
              "      background-color: #434B5C;\n",
              "      box-shadow: 0px 1px 3px 1px rgba(0, 0, 0, 0.15);\n",
              "      filter: drop-shadow(0px 1px 2px rgba(0, 0, 0, 0.3));\n",
              "      fill: #FFFFFF;\n",
              "    }\n",
              "  </style>\n",
              "\n",
              "      <script>\n",
              "        const buttonEl =\n",
              "          document.querySelector('#df-818ff6d2-2000-4962-871b-7216193707ad button.colab-df-convert');\n",
              "        buttonEl.style.display =\n",
              "          google.colab.kernel.accessAllowed ? 'block' : 'none';\n",
              "\n",
              "        async function convertToInteractive(key) {\n",
              "          const element = document.querySelector('#df-818ff6d2-2000-4962-871b-7216193707ad');\n",
              "          const dataTable =\n",
              "            await google.colab.kernel.invokeFunction('convertToInteractive',\n",
              "                                                     [key], {});\n",
              "          if (!dataTable) return;\n",
              "\n",
              "          const docLinkHtml = 'Like what you see? Visit the ' +\n",
              "            '<a target=\"_blank\" href=https://colab.research.google.com/notebooks/data_table.ipynb>data table notebook</a>'\n",
              "            + ' to learn more about interactive tables.';\n",
              "          element.innerHTML = '';\n",
              "          dataTable['output_type'] = 'display_data';\n",
              "          await google.colab.output.renderOutput(dataTable, element);\n",
              "          const docLink = document.createElement('div');\n",
              "          docLink.innerHTML = docLinkHtml;\n",
              "          element.appendChild(docLink);\n",
              "        }\n",
              "      </script>\n",
              "    </div>\n",
              "  </div>\n",
              "  "
            ]
          },
          "metadata": {},
          "execution_count": 76
        }
      ]
    },
    {
      "cell_type": "code",
      "source": [
        "fichero.iloc[0][2]"
      ],
      "metadata": {
        "id": "GbB51NRWNqMq",
        "outputId": "13d4cc62-3e9a-4412-eda5-f2e95d724a6c",
        "colab": {
          "base_uri": "https://localhost:8080/",
          "height": 35
        }
      },
      "execution_count": 78,
      "outputs": [
        {
          "output_type": "execute_result",
          "data": {
            "text/plain": [
              "'A series of escapades demonstrating the adage that what is good for the goose is also good for the gander , some of which occasionally amuses but none of which amounts to much of a story .'"
            ],
            "application/vnd.google.colaboratory.intrinsic+json": {
              "type": "string"
            }
          },
          "metadata": {},
          "execution_count": 78
        }
      ]
    },
    {
      "cell_type": "code",
      "source": [],
      "metadata": {
        "id": "ekn3T7ZpFCRZ"
      },
      "execution_count": 78,
      "outputs": []
    },
    {
      "cell_type": "code",
      "source": [
        "fichero.info()"
      ],
      "metadata": {
        "id": "sPhmrljnN8Ht",
        "outputId": "23e65c8f-ee26-4e18-9e95-294db457ab22",
        "colab": {
          "base_uri": "https://localhost:8080/"
        }
      },
      "execution_count": 79,
      "outputs": [
        {
          "output_type": "stream",
          "name": "stdout",
          "text": [
            "<class 'pandas.core.frame.DataFrame'>\n",
            "RangeIndex: 156060 entries, 0 to 156059\n",
            "Data columns (total 4 columns):\n",
            " #   Column      Non-Null Count   Dtype \n",
            "---  ------      --------------   ----- \n",
            " 0   PhraseId    156060 non-null  int64 \n",
            " 1   SentenceId  156060 non-null  int64 \n",
            " 2   Phrase      156060 non-null  object\n",
            " 3   Sentiment   156060 non-null  int64 \n",
            "dtypes: int64(3), object(1)\n",
            "memory usage: 4.8+ MB\n"
          ]
        }
      ]
    },
    {
      "cell_type": "code",
      "source": [
        "fichero.Sentiment.value_counts()"
      ],
      "metadata": {
        "id": "jKF3MrGeODID",
        "outputId": "3326f11d-5f76-486d-d344-785480cb6414",
        "colab": {
          "base_uri": "https://localhost:8080/"
        }
      },
      "execution_count": 80,
      "outputs": [
        {
          "output_type": "execute_result",
          "data": {
            "text/plain": [
              "2    79582\n",
              "3    32927\n",
              "1    27273\n",
              "4     9206\n",
              "0     7072\n",
              "Name: Sentiment, dtype: int64"
            ]
          },
          "metadata": {},
          "execution_count": 80
        }
      ]
    },
    {
      "cell_type": "markdown",
      "source": [
        "la polaridad del tweet (0 = negativo, 2 = neutral, 4 = positivo)\n",
        "\n",
        "\n",
        "---\n",
        "\n"
      ],
      "metadata": {
        "id": "egfj2DMuFqQv"
      }
    },
    {
      "cell_type": "code",
      "source": [
        "Sentiment_count=fichero.groupby('Sentiment').count()\n",
        "plt.bar(Sentiment_count.index.values, Sentiment_count['Phrase'])\n",
        "plt.xlabel('Revisión del Sentimiento')\n",
        "plt.ylabel('antidad de veces')\n",
        "plt.show()"
      ],
      "metadata": {
        "id": "N7UQwCnKOGSh",
        "outputId": "4100957d-0bc8-4116-f6fc-5d34e8f46979",
        "colab": {
          "base_uri": "https://localhost:8080/",
          "height": 279
        }
      },
      "execution_count": 81,
      "outputs": [
        {
          "output_type": "display_data",
          "data": {
            "text/plain": [
              "<Figure size 432x288 with 1 Axes>"
            ],
            "image/png": "[encoded data removed]"
          },
          "metadata": {
            "needs_background": "light"
          }
        }
      ]
    },
    {
      "cell_type": "markdown",
      "source": [
        "Vemos que el txto lo podemos considerar como un texto Neutro"
      ],
      "metadata": {
        "id": "ny-IXopXFtx1"
      }
    },
    {
      "cell_type": "code",
      "source": [
        "from sklearn.feature_extraction.text import CountVectorizer\n",
        "from nltk.tokenize import RegexpTokenizer\n",
        "#tokenizer to remove unwanted elements from out data like symbols and numbers\n",
        "token = RegexpTokenizer(r'[a-zA-Z0-9]+')\n",
        "cv = CountVectorizer(lowercase=True,stop_words='english',ngram_range = (1,1),tokenizer = token.tokenize)\n",
        "text_counts= cv.fit_transform(fichero['Phrase'])"
      ],
      "metadata": {
        "id": "cI5cvYH-OeJH"
      },
      "execution_count": 82,
      "outputs": []
    },
    {
      "cell_type": "code",
      "source": [
        "print(text_counts)"
      ],
      "metadata": {
        "id": "9w_vCRdOOueW",
        "outputId": "9c7023c0-d431-461c-8c84-c596c8fbbe06",
        "colab": {
          "base_uri": "https://localhost:8080/"
        }
      },
      "execution_count": 83,
      "outputs": [
        {
          "output_type": "stream",
          "name": "stdout",
          "text": [
            "  (0, 11671)\t1\n",
            "  (0, 4517)\t1\n",
            "  (0, 3444)\t1\n",
            "  (0, 294)\t1\n",
            "  (0, 5735)\t2\n",
            "  (0, 5751)\t1\n",
            "  (0, 5512)\t1\n",
            "  (0, 9065)\t1\n",
            "  (0, 593)\t1\n",
            "  (0, 584)\t1\n",
            "  (0, 12673)\t1\n",
            "  (1, 11671)\t1\n",
            "  (1, 4517)\t1\n",
            "  (1, 3444)\t1\n",
            "  (1, 294)\t1\n",
            "  (1, 5735)\t1\n",
            "  (1, 5751)\t1\n",
            "  (2, 11671)\t1\n",
            "  (4, 11671)\t1\n",
            "  (5, 4517)\t1\n",
            "  (5, 3444)\t1\n",
            "  (5, 294)\t1\n",
            "  (5, 5735)\t1\n",
            "  (5, 5751)\t1\n",
            "  (7, 4517)\t1\n",
            "  :\t:\n",
            "  (156050, 11305)\t1\n",
            "  (156050, 9054)\t1\n",
            "  (156051, 11305)\t1\n",
            "  (156051, 9054)\t1\n",
            "  (156052, 11305)\t1\n",
            "  (156053, 11281)\t1\n",
            "  (156053, 1281)\t1\n",
            "  (156053, 5252)\t1\n",
            "  (156053, 6156)\t1\n",
            "  (156053, 1006)\t1\n",
            "  (156053, 2271)\t1\n",
            "  (156054, 11281)\t1\n",
            "  (156054, 5252)\t1\n",
            "  (156054, 6156)\t1\n",
            "  (156054, 1006)\t1\n",
            "  (156054, 2271)\t1\n",
            "  (156055, 11281)\t1\n",
            "  (156055, 6156)\t1\n",
            "  (156056, 5252)\t1\n",
            "  (156056, 1006)\t1\n",
            "  (156056, 2271)\t1\n",
            "  (156057, 1006)\t1\n",
            "  (156057, 2271)\t1\n",
            "  (156058, 1006)\t1\n",
            "  (156059, 2271)\t1\n"
          ]
        }
      ]
    },
    {
      "cell_type": "code",
      "source": [
        "from sklearn.model_selection import train_test_split\n",
        "X_train, X_test, y_train, y_test = train_test_split(\n",
        "    text_counts, fichero['Sentiment'], test_size=0.3, random_state=1)"
      ],
      "metadata": {
        "id": "CGazyVJmOo0H"
      },
      "execution_count": 84,
      "outputs": []
    },
    {
      "cell_type": "code",
      "source": [
        "from sklearn.naive_bayes import MultinomialNB\n",
        "#Import scikit-learn metrics module for accuracy calculation\n",
        "from sklearn import metrics\n",
        "# Model Generation Using Multinomial Naive Bayes\n",
        "clf = MultinomialNB().fit(X_train, y_train)\n",
        "predicted= clf.predict(X_test)\n",
        "print(\"MultinomialNB Accuracy:\",metrics.accuracy_score(y_test, predicted))"
      ],
      "metadata": {
        "id": "0YR3BFuBO3ud",
        "outputId": "881ac75a-b7f6-4f57-b1ba-da849ef329c1",
        "colab": {
          "base_uri": "https://localhost:8080/"
        }
      },
      "execution_count": 85,
      "outputs": [
        {
          "output_type": "stream",
          "name": "stdout",
          "text": [
            "MultinomialNB Accuracy: 0.6049169122986885\n"
          ]
        }
      ]
    },
    {
      "cell_type": "code",
      "source": [
        "from sklearn.feature_extraction.text import TfidfVectorizer\n",
        "tf=TfidfVectorizer()\n",
        "text_tf= tf.fit_transform(fichero['Phrase'])"
      ],
      "metadata": {
        "id": "Fgp3SMM9PM1X"
      },
      "execution_count": 86,
      "outputs": []
    },
    {
      "cell_type": "code",
      "source": [
        "from sklearn.model_selection import train_test_split\n",
        "X_train, X_test, y_train, y_test = train_test_split(\n",
        "    text_tf, fichero['Sentiment'], test_size=0.3, random_state=123)"
      ],
      "metadata": {
        "id": "5E9f0tAJPUGv"
      },
      "execution_count": 87,
      "outputs": []
    },
    {
      "cell_type": "code",
      "source": [
        "from sklearn.naive_bayes import MultinomialNB\n",
        "from sklearn import metrics\n",
        "# Model Generation Using Multinomial Naive Bayes\n",
        "clf = MultinomialNB().fit(X_train, y_train)\n",
        "predicted= clf.predict(X_test)\n",
        "print(\"MultinomialNB Accuracy:\",metrics.accuracy_score(y_test, predicted))"
      ],
      "metadata": {
        "id": "_JkRypWAPfwx",
        "outputId": "f034e837-2cc7-41d4-bf89-b4c176fe8b5c",
        "colab": {
          "base_uri": "https://localhost:8080/"
        }
      },
      "execution_count": 88,
      "outputs": [
        {
          "output_type": "stream",
          "name": "stdout",
          "text": [
            "MultinomialNB Accuracy: 0.5865265496176684\n"
          ]
        }
      ]
    },
    {
      "cell_type": "code",
      "source": [
        "import nltk\n",
        "sentence = \"\"\"At eight o'clock on Thursday morning Arthur didn't feel very good.\"\"\"\n",
        "\n",
        "tokens = nltk.word_tokenize(sentence)\n",
        "tokens\n",
        "tagged = nltk.pos_tag(tokens)\n",
        "tagged[0:6]"
      ],
      "metadata": {
        "id": "1sDWSIdsPzAO",
        "outputId": "7b8e5951-9a6c-4294-d221-00584d9cceb0",
        "colab": {
          "base_uri": "https://localhost:8080/"
        }
      },
      "execution_count": 89,
      "outputs": [
        {
          "output_type": "execute_result",
          "data": {
            "text/plain": [
              "[('At', 'IN'),\n",
              " ('eight', 'CD'),\n",
              " (\"o'clock\", 'NN'),\n",
              " ('on', 'IN'),\n",
              " ('Thursday', 'NNP'),\n",
              " ('morning', 'NN')]"
            ]
          },
          "metadata": {},
          "execution_count": 89
        }
      ]
    },
    {
      "cell_type": "code",
      "source": [
        "nltk.download('maxent_ne_chunker')\n",
        "nltk.download('words')"
      ],
      "metadata": {
        "id": "KGZCV2zWQSBM",
        "outputId": "2748e35f-2965-401f-ea19-e30a081f1243",
        "colab": {
          "base_uri": "https://localhost:8080/"
        }
      },
      "execution_count": 90,
      "outputs": [
        {
          "output_type": "stream",
          "name": "stderr",
          "text": [
            "[nltk_data] Downloading package maxent_ne_chunker to\n",
            "[nltk_data]     /root/nltk_data...\n",
            "[nltk_data]   Package maxent_ne_chunker is already up-to-date!\n",
            "[nltk_data] Downloading package words to /root/nltk_data...\n",
            "[nltk_data]   Package words is already up-to-date!\n"
          ]
        },
        {
          "output_type": "execute_result",
          "data": {
            "text/plain": [
              "True"
            ]
          },
          "metadata": {},
          "execution_count": 90
        }
      ]
    },
    {
      "cell_type": "code",
      "source": [
        "entities = nltk.chunk.ne_chunk(tagged)\n",
        "#entities"
      ],
      "metadata": {
        "id": "_jj8B87lQMiB"
      },
      "execution_count": 91,
      "outputs": []
    },
    {
      "cell_type": "code",
      "source": [
        "nltk.download('treebank')"
      ],
      "metadata": {
        "id": "LggXfW8xQu6a",
        "outputId": "a10320e8-748d-45a1-f687-d75826a3ab98",
        "colab": {
          "base_uri": "https://localhost:8080/"
        }
      },
      "execution_count": 92,
      "outputs": [
        {
          "output_type": "stream",
          "name": "stderr",
          "text": [
            "[nltk_data] Downloading package treebank to /root/nltk_data...\n",
            "[nltk_data]   Package treebank is already up-to-date!\n"
          ]
        },
        {
          "output_type": "execute_result",
          "data": {
            "text/plain": [
              "True"
            ]
          },
          "metadata": {},
          "execution_count": 92
        }
      ]
    },
    {
      "cell_type": "code",
      "source": [
        "from nltk.corpus import treebank\n",
        "t = treebank.parsed_sents('the father')[0]\n",
        "t.draw()"
      ],
      "metadata": {
        "id": "YzCawx7hQqR7",
        "outputId": "6e24ae0e-9ff0-4a43-9b90-fb3b928f8530",
        "colab": {
          "base_uri": "https://localhost:8080/",
          "height": 347
        }
      },
      "execution_count": 93,
      "outputs": [
        {
          "output_type": "error",
          "ename": "OSError",
          "evalue": "ignored",
          "traceback": [
            "\u001b[0;31m---------------------------------------------------------------------------\u001b[0m",
            "\u001b[0;31mOSError\u001b[0m                                   Traceback (most recent call last)",
            "\u001b[0;32m<ipython-input-93-7c3566bbf033>\u001b[0m in \u001b[0;36m<module>\u001b[0;34m\u001b[0m\n\u001b[1;32m      1\u001b[0m \u001b[0;32mfrom\u001b[0m \u001b[0mnltk\u001b[0m\u001b[0;34m.\u001b[0m\u001b[0mcorpus\u001b[0m \u001b[0;32mimport\u001b[0m \u001b[0mtreebank\u001b[0m\u001b[0;34m\u001b[0m\u001b[0;34m\u001b[0m\u001b[0m\n\u001b[0;32m----> 2\u001b[0;31m \u001b[0mt\u001b[0m \u001b[0;34m=\u001b[0m \u001b[0mtreebank\u001b[0m\u001b[0;34m.\u001b[0m\u001b[0mparsed_sents\u001b[0m\u001b[0;34m(\u001b[0m\u001b[0;34m'the father'\u001b[0m\u001b[0;34m)\u001b[0m\u001b[0;34m[\u001b[0m\u001b[0;36m0\u001b[0m\u001b[0;34m]\u001b[0m\u001b[0;34m\u001b[0m\u001b[0;34m\u001b[0m\u001b[0m\n\u001b[0m\u001b[1;32m      3\u001b[0m \u001b[0mt\u001b[0m\u001b[0;34m.\u001b[0m\u001b[0mdraw\u001b[0m\u001b[0;34m(\u001b[0m\u001b[0;34m)\u001b[0m\u001b[0;34m\u001b[0m\u001b[0;34m\u001b[0m\u001b[0m\n",
            "\u001b[0;32m/usr/local/lib/python3.7/dist-packages/nltk/corpus/reader/api.py\u001b[0m in \u001b[0;36mparsed_sents\u001b[0;34m(self, fileids)\u001b[0m\n\u001b[1;32m    450\u001b[0m             [\n\u001b[1;32m    451\u001b[0m                 \u001b[0mStreamBackedCorpusView\u001b[0m\u001b[0;34m(\u001b[0m\u001b[0mfileid\u001b[0m\u001b[0;34m,\u001b[0m \u001b[0mreader\u001b[0m\u001b[0;34m,\u001b[0m \u001b[0mencoding\u001b[0m\u001b[0;34m=\u001b[0m\u001b[0menc\u001b[0m\u001b[0;34m)\u001b[0m\u001b[0;34m\u001b[0m\u001b[0;34m\u001b[0m\u001b[0m\n\u001b[0;32m--> 452\u001b[0;31m                 \u001b[0;32mfor\u001b[0m \u001b[0mfileid\u001b[0m\u001b[0;34m,\u001b[0m \u001b[0menc\u001b[0m \u001b[0;32min\u001b[0m \u001b[0mself\u001b[0m\u001b[0;34m.\u001b[0m\u001b[0mabspaths\u001b[0m\u001b[0;34m(\u001b[0m\u001b[0mfileids\u001b[0m\u001b[0;34m,\u001b[0m \u001b[0;32mTrue\u001b[0m\u001b[0;34m)\u001b[0m\u001b[0;34m\u001b[0m\u001b[0;34m\u001b[0m\u001b[0m\n\u001b[0m\u001b[1;32m    453\u001b[0m             ]\n\u001b[1;32m    454\u001b[0m         )\n",
            "\u001b[0;32m/usr/local/lib/python3.7/dist-packages/nltk/corpus/reader/api.py\u001b[0m in \u001b[0;36mabspaths\u001b[0;34m(self, fileids, include_encoding, include_fileid)\u001b[0m\n\u001b[1;32m    193\u001b[0m             \u001b[0mfileids\u001b[0m \u001b[0;34m=\u001b[0m \u001b[0;34m[\u001b[0m\u001b[0mfileids\u001b[0m\u001b[0;34m]\u001b[0m\u001b[0;34m\u001b[0m\u001b[0;34m\u001b[0m\u001b[0m\n\u001b[1;32m    194\u001b[0m \u001b[0;34m\u001b[0m\u001b[0m\n\u001b[0;32m--> 195\u001b[0;31m         \u001b[0mpaths\u001b[0m \u001b[0;34m=\u001b[0m \u001b[0;34m[\u001b[0m\u001b[0mself\u001b[0m\u001b[0;34m.\u001b[0m\u001b[0m_root\u001b[0m\u001b[0;34m.\u001b[0m\u001b[0mjoin\u001b[0m\u001b[0;34m(\u001b[0m\u001b[0mf\u001b[0m\u001b[0;34m)\u001b[0m \u001b[0;32mfor\u001b[0m \u001b[0mf\u001b[0m \u001b[0;32min\u001b[0m \u001b[0mfileids\u001b[0m\u001b[0;34m]\u001b[0m\u001b[0;34m\u001b[0m\u001b[0;34m\u001b[0m\u001b[0m\n\u001b[0m\u001b[1;32m    196\u001b[0m \u001b[0;34m\u001b[0m\u001b[0m\n\u001b[1;32m    197\u001b[0m         \u001b[0;32mif\u001b[0m \u001b[0minclude_encoding\u001b[0m \u001b[0;32mand\u001b[0m \u001b[0minclude_fileid\u001b[0m\u001b[0;34m:\u001b[0m\u001b[0;34m\u001b[0m\u001b[0;34m\u001b[0m\u001b[0m\n",
            "\u001b[0;32m/usr/local/lib/python3.7/dist-packages/nltk/corpus/reader/api.py\u001b[0m in \u001b[0;36m<listcomp>\u001b[0;34m(.0)\u001b[0m\n\u001b[1;32m    193\u001b[0m             \u001b[0mfileids\u001b[0m \u001b[0;34m=\u001b[0m \u001b[0;34m[\u001b[0m\u001b[0mfileids\u001b[0m\u001b[0;34m]\u001b[0m\u001b[0;34m\u001b[0m\u001b[0;34m\u001b[0m\u001b[0m\n\u001b[1;32m    194\u001b[0m \u001b[0;34m\u001b[0m\u001b[0m\n\u001b[0;32m--> 195\u001b[0;31m         \u001b[0mpaths\u001b[0m \u001b[0;34m=\u001b[0m \u001b[0;34m[\u001b[0m\u001b[0mself\u001b[0m\u001b[0;34m.\u001b[0m\u001b[0m_root\u001b[0m\u001b[0;34m.\u001b[0m\u001b[0mjoin\u001b[0m\u001b[0;34m(\u001b[0m\u001b[0mf\u001b[0m\u001b[0;34m)\u001b[0m \u001b[0;32mfor\u001b[0m \u001b[0mf\u001b[0m \u001b[0;32min\u001b[0m \u001b[0mfileids\u001b[0m\u001b[0;34m]\u001b[0m\u001b[0;34m\u001b[0m\u001b[0;34m\u001b[0m\u001b[0m\n\u001b[0m\u001b[1;32m    196\u001b[0m \u001b[0;34m\u001b[0m\u001b[0m\n\u001b[1;32m    197\u001b[0m         \u001b[0;32mif\u001b[0m \u001b[0minclude_encoding\u001b[0m \u001b[0;32mand\u001b[0m \u001b[0minclude_fileid\u001b[0m\u001b[0;34m:\u001b[0m\u001b[0;34m\u001b[0m\u001b[0;34m\u001b[0m\u001b[0m\n",
            "\u001b[0;32m/usr/local/lib/python3.7/dist-packages/nltk/data.py\u001b[0m in \u001b[0;36mjoin\u001b[0;34m(self, fileid)\u001b[0m\n\u001b[1;32m    332\u001b[0m     \u001b[0;32mdef\u001b[0m \u001b[0mjoin\u001b[0m\u001b[0;34m(\u001b[0m\u001b[0mself\u001b[0m\u001b[0;34m,\u001b[0m \u001b[0mfileid\u001b[0m\u001b[0;34m)\u001b[0m\u001b[0;34m:\u001b[0m\u001b[0;34m\u001b[0m\u001b[0;34m\u001b[0m\u001b[0m\n\u001b[1;32m    333\u001b[0m         \u001b[0m_path\u001b[0m \u001b[0;34m=\u001b[0m \u001b[0mos\u001b[0m\u001b[0;34m.\u001b[0m\u001b[0mpath\u001b[0m\u001b[0;34m.\u001b[0m\u001b[0mjoin\u001b[0m\u001b[0;34m(\u001b[0m\u001b[0mself\u001b[0m\u001b[0;34m.\u001b[0m\u001b[0m_path\u001b[0m\u001b[0;34m,\u001b[0m \u001b[0mfileid\u001b[0m\u001b[0;34m)\u001b[0m\u001b[0;34m\u001b[0m\u001b[0;34m\u001b[0m\u001b[0m\n\u001b[0;32m--> 334\u001b[0;31m         \u001b[0;32mreturn\u001b[0m \u001b[0mFileSystemPathPointer\u001b[0m\u001b[0;34m(\u001b[0m\u001b[0m_path\u001b[0m\u001b[0;34m)\u001b[0m\u001b[0;34m\u001b[0m\u001b[0;34m\u001b[0m\u001b[0m\n\u001b[0m\u001b[1;32m    335\u001b[0m \u001b[0;34m\u001b[0m\u001b[0m\n\u001b[1;32m    336\u001b[0m     \u001b[0;32mdef\u001b[0m \u001b[0m__repr__\u001b[0m\u001b[0;34m(\u001b[0m\u001b[0mself\u001b[0m\u001b[0;34m)\u001b[0m\u001b[0;34m:\u001b[0m\u001b[0;34m\u001b[0m\u001b[0;34m\u001b[0m\u001b[0m\n",
            "\u001b[0;32m/usr/local/lib/python3.7/dist-packages/nltk/compat.py\u001b[0m in \u001b[0;36m_decorator\u001b[0;34m(*args, **kwargs)\u001b[0m\n\u001b[1;32m     39\u001b[0m     \u001b[0;32mdef\u001b[0m \u001b[0m_decorator\u001b[0m\u001b[0;34m(\u001b[0m\u001b[0;34m*\u001b[0m\u001b[0margs\u001b[0m\u001b[0;34m,\u001b[0m \u001b[0;34m**\u001b[0m\u001b[0mkwargs\u001b[0m\u001b[0;34m)\u001b[0m\u001b[0;34m:\u001b[0m\u001b[0;34m\u001b[0m\u001b[0;34m\u001b[0m\u001b[0m\n\u001b[1;32m     40\u001b[0m         \u001b[0margs\u001b[0m \u001b[0;34m=\u001b[0m \u001b[0;34m(\u001b[0m\u001b[0margs\u001b[0m\u001b[0;34m[\u001b[0m\u001b[0;36m0\u001b[0m\u001b[0;34m]\u001b[0m\u001b[0;34m,\u001b[0m \u001b[0madd_py3_data\u001b[0m\u001b[0;34m(\u001b[0m\u001b[0margs\u001b[0m\u001b[0;34m[\u001b[0m\u001b[0;36m1\u001b[0m\u001b[0;34m]\u001b[0m\u001b[0;34m)\u001b[0m\u001b[0;34m)\u001b[0m \u001b[0;34m+\u001b[0m \u001b[0margs\u001b[0m\u001b[0;34m[\u001b[0m\u001b[0;36m2\u001b[0m\u001b[0;34m:\u001b[0m\u001b[0;34m]\u001b[0m\u001b[0;34m\u001b[0m\u001b[0;34m\u001b[0m\u001b[0m\n\u001b[0;32m---> 41\u001b[0;31m         \u001b[0;32mreturn\u001b[0m \u001b[0minit_func\u001b[0m\u001b[0;34m(\u001b[0m\u001b[0;34m*\u001b[0m\u001b[0margs\u001b[0m\u001b[0;34m,\u001b[0m \u001b[0;34m**\u001b[0m\u001b[0mkwargs\u001b[0m\u001b[0;34m)\u001b[0m\u001b[0;34m\u001b[0m\u001b[0;34m\u001b[0m\u001b[0m\n\u001b[0m\u001b[1;32m     42\u001b[0m \u001b[0;34m\u001b[0m\u001b[0m\n\u001b[1;32m     43\u001b[0m     \u001b[0;32mreturn\u001b[0m \u001b[0mwraps\u001b[0m\u001b[0;34m(\u001b[0m\u001b[0minit_func\u001b[0m\u001b[0;34m)\u001b[0m\u001b[0;34m(\u001b[0m\u001b[0m_decorator\u001b[0m\u001b[0;34m)\u001b[0m\u001b[0;34m\u001b[0m\u001b[0;34m\u001b[0m\u001b[0m\n",
            "\u001b[0;32m/usr/local/lib/python3.7/dist-packages/nltk/data.py\u001b[0m in \u001b[0;36m__init__\u001b[0;34m(self, _path)\u001b[0m\n\u001b[1;32m    310\u001b[0m         \u001b[0m_path\u001b[0m \u001b[0;34m=\u001b[0m \u001b[0mos\u001b[0m\u001b[0;34m.\u001b[0m\u001b[0mpath\u001b[0m\u001b[0;34m.\u001b[0m\u001b[0mabspath\u001b[0m\u001b[0;34m(\u001b[0m\u001b[0m_path\u001b[0m\u001b[0;34m)\u001b[0m\u001b[0;34m\u001b[0m\u001b[0;34m\u001b[0m\u001b[0m\n\u001b[1;32m    311\u001b[0m         \u001b[0;32mif\u001b[0m \u001b[0;32mnot\u001b[0m \u001b[0mos\u001b[0m\u001b[0;34m.\u001b[0m\u001b[0mpath\u001b[0m\u001b[0;34m.\u001b[0m\u001b[0mexists\u001b[0m\u001b[0;34m(\u001b[0m\u001b[0m_path\u001b[0m\u001b[0;34m)\u001b[0m\u001b[0;34m:\u001b[0m\u001b[0;34m\u001b[0m\u001b[0;34m\u001b[0m\u001b[0m\n\u001b[0;32m--> 312\u001b[0;31m             \u001b[0;32mraise\u001b[0m \u001b[0mOSError\u001b[0m\u001b[0;34m(\u001b[0m\u001b[0;34m\"No such file or directory: %r\"\u001b[0m \u001b[0;34m%\u001b[0m \u001b[0m_path\u001b[0m\u001b[0;34m)\u001b[0m\u001b[0;34m\u001b[0m\u001b[0;34m\u001b[0m\u001b[0m\n\u001b[0m\u001b[1;32m    313\u001b[0m         \u001b[0mself\u001b[0m\u001b[0;34m.\u001b[0m\u001b[0m_path\u001b[0m \u001b[0;34m=\u001b[0m \u001b[0m_path\u001b[0m\u001b[0;34m\u001b[0m\u001b[0;34m\u001b[0m\u001b[0m\n\u001b[1;32m    314\u001b[0m \u001b[0;34m\u001b[0m\u001b[0m\n",
            "\u001b[0;31mOSError\u001b[0m: No such file or directory: '/root/nltk_data/corpora/treebank/combined/the father'"
          ]
        }
      ]
    },
    {
      "cell_type": "code",
      "source": [],
      "metadata": {
        "id": "gz9nipxOG7GG"
      },
      "execution_count": null,
      "outputs": []
    },
    {
      "cell_type": "markdown",
      "source": [
        "https://www.kaggle.com/code/yashmaxnet/basic-bilstm"
      ],
      "metadata": {
        "id": "x1FViXBKG8Q4"
      }
    },
    {
      "cell_type": "code",
      "source": [
        "import keras\n",
        "from sklearn.model_selection import train_test_split\n",
        "from keras.preprocessing.text import Tokenizer"
      ],
      "metadata": {
        "id": "9bxwri4FHlY_"
      },
      "execution_count": 95,
      "outputs": []
    },
    {
      "cell_type": "code",
      "source": [
        "frase"
      ],
      "metadata": {
        "id": "8W0DTHswIh9g",
        "outputId": "64c1026f-5163-4f7b-ee4a-7c23816a86c3",
        "colab": {
          "base_uri": "https://localhost:8080/",
          "height": 52
        }
      },
      "execution_count": 100,
      "outputs": [
        {
          "output_type": "execute_result",
          "data": {
            "text/plain": [
              "'con estas razones perdía el pobre caballero el juicio, y desvelábase por entenderlas y desentrañarles el sentido, que no se lo sacara ni las entendiera el mesmo aristóteles, si resucitara para sólo ello. no estaba muy bien con las heridas que don belianís daba y recebía, porque se imaginaba que, por grandes maestros que le hubiesen curado, no dejaría de tener el rostro y todo el cuerpo lleno de cicatrices y señales.'"
            ],
            "application/vnd.google.colaboratory.intrinsic+json": {
              "type": "string"
            }
          },
          "metadata": {},
          "execution_count": 100
        }
      ]
    },
    {
      "cell_type": "code",
      "source": [
        "#validation set\n",
        "x_train, x_val, y_train, y_val = train_test_split(frase, labels, test_size=0.10, random_state=10)"
      ],
      "metadata": {
        "id": "pdDg4OuKIWMA",
        "outputId": "6777563a-44c8-4daa-b58f-9e8de00106a7",
        "colab": {
          "base_uri": "https://localhost:8080/",
          "height": 184
        }
      },
      "execution_count": 99,
      "outputs": [
        {
          "output_type": "error",
          "ename": "NameError",
          "evalue": "ignored",
          "traceback": [
            "\u001b[0;31m---------------------------------------------------------------------------\u001b[0m",
            "\u001b[0;31mNameError\u001b[0m                                 Traceback (most recent call last)",
            "\u001b[0;32m<ipython-input-99-3be8e53cf80b>\u001b[0m in \u001b[0;36m<module>\u001b[0;34m\u001b[0m\n\u001b[1;32m      1\u001b[0m \u001b[0;31m#validation set\u001b[0m\u001b[0;34m\u001b[0m\u001b[0;34m\u001b[0m\u001b[0;34m\u001b[0m\u001b[0m\n\u001b[0;32m----> 2\u001b[0;31m \u001b[0mx_train\u001b[0m\u001b[0;34m,\u001b[0m \u001b[0mx_val\u001b[0m\u001b[0;34m,\u001b[0m \u001b[0my_train\u001b[0m\u001b[0;34m,\u001b[0m \u001b[0my_val\u001b[0m \u001b[0;34m=\u001b[0m \u001b[0mtrain_test_split\u001b[0m\u001b[0;34m(\u001b[0m\u001b[0mfrase\u001b[0m\u001b[0;34m,\u001b[0m \u001b[0mlabels\u001b[0m\u001b[0;34m,\u001b[0m \u001b[0mtest_size\u001b[0m\u001b[0;34m=\u001b[0m\u001b[0;36m0.10\u001b[0m\u001b[0;34m,\u001b[0m \u001b[0mrandom_state\u001b[0m\u001b[0;34m=\u001b[0m\u001b[0;36m10\u001b[0m\u001b[0;34m)\u001b[0m\u001b[0;34m\u001b[0m\u001b[0;34m\u001b[0m\u001b[0m\n\u001b[0m",
            "\u001b[0;31mNameError\u001b[0m: name 'labels' is not defined"
          ]
        }
      ]
    },
    {
      "cell_type": "code",
      "source": [
        "max_words = 40000\n",
        "tokenizer = Tokenizer(num_words=max_words)\n",
        "tokenizer.fit_on_texts(list(frase))\n",
        "\n",
        "list_tokenized_train = tokenizer.texts_to_sequences(frase)\n",
        "list_tokenized_test = tokenizer.texts_to_sequences(frase)"
      ],
      "metadata": {
        "id": "RaW1l6UwG7QV"
      },
      "execution_count": 97,
      "outputs": []
    },
    {
      "cell_type": "code",
      "source": [
        "len(list_tokenized_train)"
      ],
      "metadata": {
        "id": "BWa6d7ukG7VZ",
        "outputId": "36546799-ed80-4779-de07-2c8a2b08ba9f",
        "colab": {
          "base_uri": "https://localhost:8080/"
        }
      },
      "execution_count": 98,
      "outputs": [
        {
          "output_type": "execute_result",
          "data": {
            "text/plain": [
              "419"
            ]
          },
          "metadata": {},
          "execution_count": 98
        }
      ]
    },
    {
      "cell_type": "code",
      "source": [],
      "metadata": {
        "id": "bijm2ResK3Fo"
      },
      "execution_count": null,
      "outputs": []
    },
    {
      "cell_type": "code",
      "source": [
        "data.size"
      ],
      "metadata": {
        "id": "IJmdbyfQK3Je",
        "outputId": "a7095bb6-6fa1-4b0d-8a39-924f6df3cbad",
        "colab": {
          "base_uri": "https://localhost:8080/"
        }
      },
      "execution_count": 115,
      "outputs": [
        {
          "output_type": "execute_result",
          "data": {
            "text/plain": [
              "624240"
            ]
          },
          "metadata": {},
          "execution_count": 115
        }
      ]
    },
    {
      "cell_type": "code",
      "source": [
        "from sklearn.feature_extraction.text import CountVectorizer\n",
        "from nltk.tokenize import RegexpTokenizer\n",
        "#tokenizer to remove unwanted elements from out data like symbols and numbers\n",
        "token = RegexpTokenizer(r'[a-zA-Z0-9]+')\n",
        "cv = CountVectorizer(lowercase=True,stop_words='english',ngram_range = (1,1),tokenizer = token.tokenize)\n",
        "text_counts= cv.fit_transform(data['Phrase'])"
      ],
      "metadata": {
        "id": "-S83egLjK3M0"
      },
      "execution_count": 117,
      "outputs": []
    },
    {
      "cell_type": "code",
      "source": [
        "print(data['Phrase'])"
      ],
      "metadata": {
        "id": "6Ris7qH0K3QU",
        "outputId": "6162a54d-0191-4c83-9558-848e994d992f",
        "colab": {
          "base_uri": "https://localhost:8080/"
        }
      },
      "execution_count": 110,
      "outputs": [
        {
          "output_type": "stream",
          "name": "stdout",
          "text": [
            "0         A series of escapades demonstrating the adage ...\n",
            "1         A series of escapades demonstrating the adage ...\n",
            "2                                                  A series\n",
            "3                                                         A\n",
            "4                                                    series\n",
            "                                ...                        \n",
            "156055                                            Hearst 's\n",
            "156056                            forced avuncular chortles\n",
            "156057                                   avuncular chortles\n",
            "156058                                            avuncular\n",
            "156059                                             chortles\n",
            "Name: Phrase, Length: 156060, dtype: object\n"
          ]
        }
      ]
    },
    {
      "cell_type": "code",
      "source": [],
      "metadata": {
        "id": "UdcVvMlOLAOD"
      },
      "execution_count": null,
      "outputs": []
    },
    {
      "cell_type": "code",
      "source": [],
      "metadata": {
        "id": "k8j75GIRLAT6"
      },
      "execution_count": null,
      "outputs": []
    },
    {
      "cell_type": "code",
      "source": [],
      "metadata": {
        "id": "5adngDWwLAZE"
      },
      "execution_count": null,
      "outputs": []
    }
  ]
}